{
 "cells": [
  {
   "cell_type": "code",
   "execution_count": 1,
   "id": "f5885c05-8269-4b49-b8be-82886aa56ba6",
   "metadata": {},
   "outputs": [
    {
     "name": "stdout",
     "output_type": "stream",
     "text": [
      "❌ An unexpected error occurred: 'str' object has no attribute 'get'\n"
     ]
    }
   ],
   "source": []
  },
  {
   "cell_type": "code",
   "execution_count": 2,
   "id": "bad5d4cb-377e-4e20-b9a5-881373dbd841",
   "metadata": {},
   "outputs": [
    {
     "name": "stdout",
     "output_type": "stream",
     "text": [
      "❌ An unexpected error occurred: 'str' object has no attribute 'get'\n"
     ]
    }
   ],
   "source": [
    "import requests\n",
    "import pandas as pd\n",
    "\n",
    "# Define the API endpoint for RemoteOK's job listings.\n",
    "api_url = \"https://remoteok.com/api\"\n",
    "\n",
    "try:\n",
    "    # Send a GET request to the API.\n",
    "    response = requests.get(api_url)\n",
    "    \n",
    "    # Raise an HTTPError for bad responses (4xx or 5xx).\n",
    "    response.raise_for_status()\n",
    "\n",
    "    # Parse the JSON response. The first item is often metadata, so we skip it.\n",
    "    job_data = response.json()[1:]\n",
    "\n",
    "    # Create a pandas DataFrame directly from the job data.\n",
    "    # We use a list comprehension for efficient extraction.\n",
    "    job_listings = pd.DataFrame([\n",
    "        {\n",
    "            'Company Name': job.get('company', 'N/A'),\n",
    "            'Job Role': job.get('position', 'N/A'),\n",
    "            'Location': job.get('location', 'Remote'),\n",
    "            'Features or Tags': ', '.join([tag.get('name', '') for tag in job.get('tags', [])])\n",
    "        }\n",
    "        for job in job_data\n",
    "    ])\n",
    "\n",
    "    # Save the DataFrame to a CSV file.\n",
    "    output_filename = 'remoteok_jobs.csv'\n",
    "    job_listings.to_csv(output_filename, index=False, encoding='utf-8')\n",
    "    print(f\"✅ Successfully collected {len(job_listings)} job listings and saved to {output_filename}.\")\n",
    "\n",
    "except requests.exceptions.RequestException as e:\n",
    "    print(f\"❌ Error during API request: {e}\")\n",
    "except (KeyError, IndexError) as e:\n",
    "    print(f\"❌ Error parsing JSON response: {e}. The API structure may have changed.\")\n",
    "except Exception as e:\n",
    "    print(f\"❌ An unexpected error occurred: {e}\")"
   ]
  },
  {
   "cell_type": "code",
   "execution_count": 3,
   "id": "ebd429bd-f9b5-4770-aecc-b422ebe6ccf9",
   "metadata": {},
   "outputs": [
    {
     "name": "stdout",
     "output_type": "stream",
     "text": [
      "Data saved to 'remoteok_jobs.csv'\n"
     ]
    }
   ],
   "source": [
    "import requests\n",
    "import pandas as pd\n",
    "\n",
    "# URL for the RemoteOK job listings in JSON format\n",
    "url = \"https://remoteok.com/api\"\n",
    "\n",
    "# Sending GET request to retrieve job data\n",
    "response = requests.get(url)\n",
    "\n",
    "# Check if the request was successful\n",
    "if response.status_code == 200:\n",
    "    # Parse the JSON data\n",
    "    job_listings = response.json()\n",
    "    \n",
    "    # Create empty lists to store the extracted data\n",
    "    companies = []\n",
    "    roles = []\n",
    "    locations = []\n",
    "    features = []\n",
    "\n",
    "    # Loop through each job listing and extract relevant data\n",
    "    for job in job_listings:\n",
    "        companies.append(job.get(\"company\", \"N/A\"))\n",
    "        roles.append(job.get(\"position\", \"N/A\"))\n",
    "        locations.append(job.get(\"location\", \"N/A\"))\n",
    "        features.append(', '.join(job.get(\"tags\", [])))\n",
    "\n",
    "    # Create a DataFrame to structure the data\n",
    "    job_data = pd.DataFrame({\n",
    "        \"Company Name\": companies,\n",
    "        \"Job Role\": roles,\n",
    "        \"Location\": locations,\n",
    "        \"Features or Tags\": features\n",
    "    })\n",
    "\n",
    "    # Save the DataFrame to a CSV file\n",
    "    job_data.to_csv(\"remoteok_jobs.csv\", index=False)\n",
    "    print(\"Data saved to 'remoteok_jobs.csv'\")\n",
    "\n",
    "else:\n",
    "    print(f\"Failed to retrieve data. Status code: {response.status_code}\")\n"
   ]
  },
  {
   "cell_type": "code",
   "execution_count": null,
   "id": "1f827d42-c3ae-4acd-b5b7-1b9318ce25a6",
   "metadata": {},
   "outputs": [],
   "source": []
  }
 ],
 "metadata": {
  "kernelspec": {
   "display_name": "Python [conda env:base] *",
   "language": "python",
   "name": "conda-base-py"
  },
  "language_info": {
   "codemirror_mode": {
    "name": "ipython",
    "version": 3
   },
   "file_extension": ".py",
   "mimetype": "text/x-python",
   "name": "python",
   "nbconvert_exporter": "python",
   "pygments_lexer": "ipython3",
   "version": "3.13.5"
  }
 },
 "nbformat": 4,
 "nbformat_minor": 5
}
