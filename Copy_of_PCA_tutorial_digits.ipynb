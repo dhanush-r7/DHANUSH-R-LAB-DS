{
  "cells": [
    {
      "cell_type": "markdown",
      "metadata": {
        "id": "W-HURXg1jm13"
      },
      "source": [
        "<h2 align='center'>Principal Component Analysis Tutorial</h2>"
      ]
    },
    {
      "cell_type": "code",
      "execution_count": null,
      "metadata": {
        "scrolled": false,
        "id": "6Juu7ptKjm15",
        "outputId": "31692688-39dc-4dbd-accc-7e0ec43d0d29"
      },
      "outputs": [
        {
          "data": {
            "text/plain": [
              "dict_keys(['data', 'target', 'frame', 'feature_names', 'target_names', 'images', 'DESCR'])"
            ]
          },
          "execution_count": 74,
          "metadata": {},
          "output_type": "execute_result"
        }
      ],
      "source": [
        "from sklearn.datasets import load_digits\n",
        "import pandas as pd\n",
        "\n",
        "dataset = load_digits()\n",
        "dataset.keys()"
      ]
    },
    {
      "cell_type": "code",
      "execution_count": null,
      "metadata": {
        "id": "D1obbLrsjm17",
        "outputId": "d2577efa-f39e-46e3-eb1f-d3a0ec2c8a6f"
      },
      "outputs": [
        {
          "data": {
            "text/plain": [
              "(1797, 64)"
            ]
          },
          "execution_count": 75,
          "metadata": {},
          "output_type": "execute_result"
        }
      ],
      "source": [
        "dataset.data.shape"
      ]
    },
    {
      "cell_type": "code",
      "execution_count": null,
      "metadata": {
        "id": "LYy0O-aXjm17",
        "outputId": "23aed69d-a5a9-49dd-de3f-6f64c818b545"
      },
      "outputs": [
        {
          "data": {
            "text/plain": [
              "array([ 0.,  0.,  5., 13.,  9.,  1.,  0.,  0.,  0.,  0., 13., 15., 10.,\n",
              "       15.,  5.,  0.,  0.,  3., 15.,  2.,  0., 11.,  8.,  0.,  0.,  4.,\n",
              "       12.,  0.,  0.,  8.,  8.,  0.,  0.,  5.,  8.,  0.,  0.,  9.,  8.,\n",
              "        0.,  0.,  4., 11.,  0.,  1., 12.,  7.,  0.,  0.,  2., 14.,  5.,\n",
              "       10., 12.,  0.,  0.,  0.,  0.,  6., 13., 10.,  0.,  0.,  0.])"
            ]
          },
          "execution_count": 76,
          "metadata": {},
          "output_type": "execute_result"
        }
      ],
      "source": [
        "dataset.data[0]"
      ]
    },
    {
      "cell_type": "code",
      "execution_count": null,
      "metadata": {
        "id": "BK8Vx_UWjm18",
        "outputId": "c77eab49-83cd-4b2c-e0b8-671ffd3bd497"
      },
      "outputs": [
        {
          "data": {
            "text/plain": [
              "array([[ 0.,  0.,  5., 13.,  9.,  1.,  0.,  0.],\n",
              "       [ 0.,  0., 13., 15., 10., 15.,  5.,  0.],\n",
              "       [ 0.,  3., 15.,  2.,  0., 11.,  8.,  0.],\n",
              "       [ 0.,  4., 12.,  0.,  0.,  8.,  8.,  0.],\n",
              "       [ 0.,  5.,  8.,  0.,  0.,  9.,  8.,  0.],\n",
              "       [ 0.,  4., 11.,  0.,  1., 12.,  7.,  0.],\n",
              "       [ 0.,  2., 14.,  5., 10., 12.,  0.,  0.],\n",
              "       [ 0.,  0.,  6., 13., 10.,  0.,  0.,  0.]])"
            ]
          },
          "execution_count": 77,
          "metadata": {},
          "output_type": "execute_result"
        }
      ],
      "source": [
        "dataset.data[0].reshape(8,8)"
      ]
    },
    {
      "cell_type": "code",
      "execution_count": null,
      "metadata": {
        "id": "9ErOWvE4jm18",
        "outputId": "0ef923f6-97a3-44d1-b8f8-dcc74702c96e"
      },
      "outputs": [
        {
          "data": {
            "text/plain": [
              "<matplotlib.image.AxesImage at 0x1749b44b400>"
            ]
          },
          "execution_count": 78,
          "metadata": {},
          "output_type": "execute_result"
        },
        {
          "data": {
            "text/plain": [
              "<Figure size 432x288 with 0 Axes>"
            ]
          },
          "metadata": {},
          "output_type": "display_data"
        },
        {
          "data": {
            "image/png": "[encoded data removed]",
            "text/plain": [
              "<Figure size 288x288 with 1 Axes>"
            ]
          },
          "metadata": {
            "needs_background": "light"
          },
          "output_type": "display_data"
        }
      ],
      "source": [
        "from matplotlib import pyplot as plt\n",
        "%matplotlib inline\n",
        "plt.gray()\n",
        "plt.matshow(dataset.data[0].reshape(8,8))"
      ]
    },
    {
      "cell_type": "code",
      "execution_count": null,
      "metadata": {
        "id": "jXI0g4onjm18",
        "outputId": "effddd63-0215-4a46-f759-cb62b4b83c9d"
      },
      "outputs": [
        {
          "data": {
            "text/plain": [
              "<matplotlib.image.AxesImage at 0x1749b64e550>"
            ]
          },
          "execution_count": 79,
          "metadata": {},
          "output_type": "execute_result"
        },
        {
          "data": {
            "image/png": "[encoded data removed]",
            "text/plain": [
              "<Figure size 288x288 with 1 Axes>"
            ]
          },
          "metadata": {
            "needs_background": "light"
          },
          "output_type": "display_data"
        }
      ],
      "source": [
        "plt.matshow(dataset.data[9].reshape(8,8))"
      ]
    },
    {
      "cell_type": "code",
      "execution_count": null,
      "metadata": {
        "id": "3XZi-LTRjm19",
        "outputId": "ea54ec98-96f4-4dac-aa8a-a4bd3442d5a3"
      },
      "outputs": [
        {
          "data": {
            "text/plain": [
              "array([0, 1, 2, 3, 4])"
            ]
          },
          "execution_count": 80,
          "metadata": {},
          "output_type": "execute_result"
        }
      ],
      "source": [
        "dataset.target[:5]"
      ]
    },
    {
      "cell_type": "code",
      "execution_count": null,
      "metadata": {
        "id": "59mOPpYUjm19",
        "outputId": "89747386-a226-4b82-b979-c6274b9c27c4"
      },
      "outputs": [
        {
          "data": {
            "text/html": [
              "<div>\n",
              "<style scoped>\n",
              "    .dataframe tbody tr th:only-of-type {\n",
              "        vertical-align: middle;\n",
              "    }\n",
              "\n",
              "    .dataframe tbody tr th {\n",
              "        vertical-align: top;\n",
              "    }\n",
              "\n",
              "    .dataframe thead th {\n",
              "        text-align: right;\n",
              "    }\n",
              "</style>\n",
              "<table border=\"1\" class=\"dataframe\">\n",
              "  <thead>\n",
              "    <tr style=\"text-align: right;\">\n",
              "      <th></th>\n",
              "      <th>pixel_0_0</th>\n",
              "      <th>pixel_0_1</th>\n",
              "      <th>pixel_0_2</th>\n",
              "      <th>pixel_0_3</th>\n",
              "      <th>pixel_0_4</th>\n",
              "      <th>pixel_0_5</th>\n",
              "      <th>pixel_0_6</th>\n",
              "      <th>pixel_0_7</th>\n",
              "      <th>pixel_1_0</th>\n",
              "      <th>pixel_1_1</th>\n",
              "      <th>...</th>\n",
              "      <th>pixel_6_6</th>\n",
              "      <th>pixel_6_7</th>\n",
              "      <th>pixel_7_0</th>\n",
              "      <th>pixel_7_1</th>\n",
              "      <th>pixel_7_2</th>\n",
              "      <th>pixel_7_3</th>\n",
              "      <th>pixel_7_4</th>\n",
              "      <th>pixel_7_5</th>\n",
              "      <th>pixel_7_6</th>\n",
              "      <th>pixel_7_7</th>\n",
              "    </tr>\n",
              "  </thead>\n",
              "  <tbody>\n",
              "    <tr>\n",
              "      <th>0</th>\n",
              "      <td>0.0</td>\n",
              "      <td>0.0</td>\n",
              "      <td>5.0</td>\n",
              "      <td>13.0</td>\n",
              "      <td>9.0</td>\n",
              "      <td>1.0</td>\n",
              "      <td>0.0</td>\n",
              "      <td>0.0</td>\n",
              "      <td>0.0</td>\n",
              "      <td>0.0</td>\n",
              "      <td>...</td>\n",
              "      <td>0.0</td>\n",
              "      <td>0.0</td>\n",
              "      <td>0.0</td>\n",
              "      <td>0.0</td>\n",
              "      <td>6.0</td>\n",
              "      <td>13.0</td>\n",
              "      <td>10.0</td>\n",
              "      <td>0.0</td>\n",
              "      <td>0.0</td>\n",
              "      <td>0.0</td>\n",
              "    </tr>\n",
              "    <tr>\n",
              "      <th>1</th>\n",
              "      <td>0.0</td>\n",
              "      <td>0.0</td>\n",
              "      <td>0.0</td>\n",
              "      <td>12.0</td>\n",
              "      <td>13.0</td>\n",
              "      <td>5.0</td>\n",
              "      <td>0.0</td>\n",
              "      <td>0.0</td>\n",
              "      <td>0.0</td>\n",
              "      <td>0.0</td>\n",
              "      <td>...</td>\n",
              "      <td>0.0</td>\n",
              "      <td>0.0</td>\n",
              "      <td>0.0</td>\n",
              "      <td>0.0</td>\n",
              "      <td>0.0</td>\n",
              "      <td>11.0</td>\n",
              "      <td>16.0</td>\n",
              "      <td>10.0</td>\n",
              "      <td>0.0</td>\n",
              "      <td>0.0</td>\n",
              "    </tr>\n",
              "    <tr>\n",
              "      <th>2</th>\n",
              "      <td>0.0</td>\n",
              "      <td>0.0</td>\n",
              "      <td>0.0</td>\n",
              "      <td>4.0</td>\n",
              "      <td>15.0</td>\n",
              "      <td>12.0</td>\n",
              "      <td>0.0</td>\n",
              "      <td>0.0</td>\n",
              "      <td>0.0</td>\n",
              "      <td>0.0</td>\n",
              "      <td>...</td>\n",
              "      <td>5.0</td>\n",
              "      <td>0.0</td>\n",
              "      <td>0.0</td>\n",
              "      <td>0.0</td>\n",
              "      <td>0.0</td>\n",
              "      <td>3.0</td>\n",
              "      <td>11.0</td>\n",
              "      <td>16.0</td>\n",
              "      <td>9.0</td>\n",
              "      <td>0.0</td>\n",
              "    </tr>\n",
              "    <tr>\n",
              "      <th>3</th>\n",
              "      <td>0.0</td>\n",
              "      <td>0.0</td>\n",
              "      <td>7.0</td>\n",
              "      <td>15.0</td>\n",
              "      <td>13.0</td>\n",
              "      <td>1.0</td>\n",
              "      <td>0.0</td>\n",
              "      <td>0.0</td>\n",
              "      <td>0.0</td>\n",
              "      <td>8.0</td>\n",
              "      <td>...</td>\n",
              "      <td>9.0</td>\n",
              "      <td>0.0</td>\n",
              "      <td>0.0</td>\n",
              "      <td>0.0</td>\n",
              "      <td>7.0</td>\n",
              "      <td>13.0</td>\n",
              "      <td>13.0</td>\n",
              "      <td>9.0</td>\n",
              "      <td>0.0</td>\n",
              "      <td>0.0</td>\n",
              "    </tr>\n",
              "    <tr>\n",
              "      <th>4</th>\n",
              "      <td>0.0</td>\n",
              "      <td>0.0</td>\n",
              "      <td>0.0</td>\n",
              "      <td>1.0</td>\n",
              "      <td>11.0</td>\n",
              "      <td>0.0</td>\n",
              "      <td>0.0</td>\n",
              "      <td>0.0</td>\n",
              "      <td>0.0</td>\n",
              "      <td>0.0</td>\n",
              "      <td>...</td>\n",
              "      <td>0.0</td>\n",
              "      <td>0.0</td>\n",
              "      <td>0.0</td>\n",
              "      <td>0.0</td>\n",
              "      <td>0.0</td>\n",
              "      <td>2.0</td>\n",
              "      <td>16.0</td>\n",
              "      <td>4.0</td>\n",
              "      <td>0.0</td>\n",
              "      <td>0.0</td>\n",
              "    </tr>\n",
              "  </tbody>\n",
              "</table>\n",
              "<p>5 rows × 64 columns</p>\n",
              "</div>"
            ],
            "text/plain": [
              "   pixel_0_0  pixel_0_1  pixel_0_2  pixel_0_3  pixel_0_4  pixel_0_5  \\\n",
              "0        0.0        0.0        5.0       13.0        9.0        1.0   \n",
              "1        0.0        0.0        0.0       12.0       13.0        5.0   \n",
              "2        0.0        0.0        0.0        4.0       15.0       12.0   \n",
              "3        0.0        0.0        7.0       15.0       13.0        1.0   \n",
              "4        0.0        0.0        0.0        1.0       11.0        0.0   \n",
              "\n",
              "   pixel_0_6  pixel_0_7  pixel_1_0  pixel_1_1  ...  pixel_6_6  pixel_6_7  \\\n",
              "0        0.0        0.0        0.0        0.0  ...        0.0        0.0   \n",
              "1        0.0        0.0        0.0        0.0  ...        0.0        0.0   \n",
              "2        0.0        0.0        0.0        0.0  ...        5.0        0.0   \n",
              "3        0.0        0.0        0.0        8.0  ...        9.0        0.0   \n",
              "4        0.0        0.0        0.0        0.0  ...        0.0        0.0   \n",
              "\n",
              "   pixel_7_0  pixel_7_1  pixel_7_2  pixel_7_3  pixel_7_4  pixel_7_5  \\\n",
              "0        0.0        0.0        6.0       13.0       10.0        0.0   \n",
              "1        0.0        0.0        0.0       11.0       16.0       10.0   \n",
              "2        0.0        0.0        0.0        3.0       11.0       16.0   \n",
              "3        0.0        0.0        7.0       13.0       13.0        9.0   \n",
              "4        0.0        0.0        0.0        2.0       16.0        4.0   \n",
              "\n",
              "   pixel_7_6  pixel_7_7  \n",
              "0        0.0        0.0  \n",
              "1        0.0        0.0  \n",
              "2        9.0        0.0  \n",
              "3        0.0        0.0  \n",
              "4        0.0        0.0  \n",
              "\n",
              "[5 rows x 64 columns]"
            ]
          },
          "execution_count": 81,
          "metadata": {},
          "output_type": "execute_result"
        }
      ],
      "source": [
        "df = pd.DataFrame(dataset.data, columns=dataset.feature_names)\n",
        "df.head()"
      ]
    },
    {
      "cell_type": "code",
      "execution_count": null,
      "metadata": {
        "id": "BmT20Pj6jm19",
        "outputId": "a37fb6e3-662e-40ca-c1aa-c23a22bbd6e5"
      },
      "outputs": [
        {
          "data": {
            "text/plain": [
              "array([0, 1, 2, ..., 8, 9, 8])"
            ]
          },
          "execution_count": 82,
          "metadata": {},
          "output_type": "execute_result"
        }
      ],
      "source": [
        "dataset.target"
      ]
    },
    {
      "cell_type": "code",
      "execution_count": null,
      "metadata": {
        "id": "F_0emRDJjm1-",
        "outputId": "d7a27b41-117b-4f57-a22c-e758313b4a2a"
      },
      "outputs": [
        {
          "data": {
            "text/html": [
              "<div>\n",
              "<style scoped>\n",
              "    .dataframe tbody tr th:only-of-type {\n",
              "        vertical-align: middle;\n",
              "    }\n",
              "\n",
              "    .dataframe tbody tr th {\n",
              "        vertical-align: top;\n",
              "    }\n",
              "\n",
              "    .dataframe thead th {\n",
              "        text-align: right;\n",
              "    }\n",
              "</style>\n",
              "<table border=\"1\" class=\"dataframe\">\n",
              "  <thead>\n",
              "    <tr style=\"text-align: right;\">\n",
              "      <th></th>\n",
              "      <th>pixel_0_0</th>\n",
              "      <th>pixel_0_1</th>\n",
              "      <th>pixel_0_2</th>\n",
              "      <th>pixel_0_3</th>\n",
              "      <th>pixel_0_4</th>\n",
              "      <th>pixel_0_5</th>\n",
              "      <th>pixel_0_6</th>\n",
              "      <th>pixel_0_7</th>\n",
              "      <th>pixel_1_0</th>\n",
              "      <th>pixel_1_1</th>\n",
              "      <th>...</th>\n",
              "      <th>pixel_6_6</th>\n",
              "      <th>pixel_6_7</th>\n",
              "      <th>pixel_7_0</th>\n",
              "      <th>pixel_7_1</th>\n",
              "      <th>pixel_7_2</th>\n",
              "      <th>pixel_7_3</th>\n",
              "      <th>pixel_7_4</th>\n",
              "      <th>pixel_7_5</th>\n",
              "      <th>pixel_7_6</th>\n",
              "      <th>pixel_7_7</th>\n",
              "    </tr>\n",
              "  </thead>\n",
              "  <tbody>\n",
              "    <tr>\n",
              "      <th>count</th>\n",
              "      <td>1797.0</td>\n",
              "      <td>1797.000000</td>\n",
              "      <td>1797.000000</td>\n",
              "      <td>1797.000000</td>\n",
              "      <td>1797.000000</td>\n",
              "      <td>1797.000000</td>\n",
              "      <td>1797.000000</td>\n",
              "      <td>1797.000000</td>\n",
              "      <td>1797.000000</td>\n",
              "      <td>1797.000000</td>\n",
              "      <td>...</td>\n",
              "      <td>1797.000000</td>\n",
              "      <td>1797.000000</td>\n",
              "      <td>1797.000000</td>\n",
              "      <td>1797.000000</td>\n",
              "      <td>1797.000000</td>\n",
              "      <td>1797.000000</td>\n",
              "      <td>1797.000000</td>\n",
              "      <td>1797.000000</td>\n",
              "      <td>1797.000000</td>\n",
              "      <td>1797.000000</td>\n",
              "    </tr>\n",
              "    <tr>\n",
              "      <th>mean</th>\n",
              "      <td>0.0</td>\n",
              "      <td>0.303840</td>\n",
              "      <td>5.204786</td>\n",
              "      <td>11.835838</td>\n",
              "      <td>11.848080</td>\n",
              "      <td>5.781859</td>\n",
              "      <td>1.362270</td>\n",
              "      <td>0.129661</td>\n",
              "      <td>0.005565</td>\n",
              "      <td>1.993879</td>\n",
              "      <td>...</td>\n",
              "      <td>3.725097</td>\n",
              "      <td>0.206455</td>\n",
              "      <td>0.000556</td>\n",
              "      <td>0.279354</td>\n",
              "      <td>5.557596</td>\n",
              "      <td>12.089037</td>\n",
              "      <td>11.809126</td>\n",
              "      <td>6.764051</td>\n",
              "      <td>2.067891</td>\n",
              "      <td>0.364496</td>\n",
              "    </tr>\n",
              "    <tr>\n",
              "      <th>std</th>\n",
              "      <td>0.0</td>\n",
              "      <td>0.907192</td>\n",
              "      <td>4.754826</td>\n",
              "      <td>4.248842</td>\n",
              "      <td>4.287388</td>\n",
              "      <td>5.666418</td>\n",
              "      <td>3.325775</td>\n",
              "      <td>1.037383</td>\n",
              "      <td>0.094222</td>\n",
              "      <td>3.196160</td>\n",
              "      <td>...</td>\n",
              "      <td>4.919406</td>\n",
              "      <td>0.984401</td>\n",
              "      <td>0.023590</td>\n",
              "      <td>0.934302</td>\n",
              "      <td>5.103019</td>\n",
              "      <td>4.374694</td>\n",
              "      <td>4.933947</td>\n",
              "      <td>5.900623</td>\n",
              "      <td>4.090548</td>\n",
              "      <td>1.860122</td>\n",
              "    </tr>\n",
              "    <tr>\n",
              "      <th>min</th>\n",
              "      <td>0.0</td>\n",
              "      <td>0.000000</td>\n",
              "      <td>0.000000</td>\n",
              "      <td>0.000000</td>\n",
              "      <td>0.000000</td>\n",
              "      <td>0.000000</td>\n",
              "      <td>0.000000</td>\n",
              "      <td>0.000000</td>\n",
              "      <td>0.000000</td>\n",
              "      <td>0.000000</td>\n",
              "      <td>...</td>\n",
              "      <td>0.000000</td>\n",
              "      <td>0.000000</td>\n",
              "      <td>0.000000</td>\n",
              "      <td>0.000000</td>\n",
              "      <td>0.000000</td>\n",
              "      <td>0.000000</td>\n",
              "      <td>0.000000</td>\n",
              "      <td>0.000000</td>\n",
              "      <td>0.000000</td>\n",
              "      <td>0.000000</td>\n",
              "    </tr>\n",
              "    <tr>\n",
              "      <th>25%</th>\n",
              "      <td>0.0</td>\n",
              "      <td>0.000000</td>\n",
              "      <td>1.000000</td>\n",
              "      <td>10.000000</td>\n",
              "      <td>10.000000</td>\n",
              "      <td>0.000000</td>\n",
              "      <td>0.000000</td>\n",
              "      <td>0.000000</td>\n",
              "      <td>0.000000</td>\n",
              "      <td>0.000000</td>\n",
              "      <td>...</td>\n",
              "      <td>0.000000</td>\n",
              "      <td>0.000000</td>\n",
              "      <td>0.000000</td>\n",
              "      <td>0.000000</td>\n",
              "      <td>1.000000</td>\n",
              "      <td>11.000000</td>\n",
              "      <td>10.000000</td>\n",
              "      <td>0.000000</td>\n",
              "      <td>0.000000</td>\n",
              "      <td>0.000000</td>\n",
              "    </tr>\n",
              "    <tr>\n",
              "      <th>50%</th>\n",
              "      <td>0.0</td>\n",
              "      <td>0.000000</td>\n",
              "      <td>4.000000</td>\n",
              "      <td>13.000000</td>\n",
              "      <td>13.000000</td>\n",
              "      <td>4.000000</td>\n",
              "      <td>0.000000</td>\n",
              "      <td>0.000000</td>\n",
              "      <td>0.000000</td>\n",
              "      <td>0.000000</td>\n",
              "      <td>...</td>\n",
              "      <td>1.000000</td>\n",
              "      <td>0.000000</td>\n",
              "      <td>0.000000</td>\n",
              "      <td>0.000000</td>\n",
              "      <td>4.000000</td>\n",
              "      <td>13.000000</td>\n",
              "      <td>14.000000</td>\n",
              "      <td>6.000000</td>\n",
              "      <td>0.000000</td>\n",
              "      <td>0.000000</td>\n",
              "    </tr>\n",
              "    <tr>\n",
              "      <th>75%</th>\n",
              "      <td>0.0</td>\n",
              "      <td>0.000000</td>\n",
              "      <td>9.000000</td>\n",
              "      <td>15.000000</td>\n",
              "      <td>15.000000</td>\n",
              "      <td>11.000000</td>\n",
              "      <td>0.000000</td>\n",
              "      <td>0.000000</td>\n",
              "      <td>0.000000</td>\n",
              "      <td>3.000000</td>\n",
              "      <td>...</td>\n",
              "      <td>7.000000</td>\n",
              "      <td>0.000000</td>\n",
              "      <td>0.000000</td>\n",
              "      <td>0.000000</td>\n",
              "      <td>10.000000</td>\n",
              "      <td>16.000000</td>\n",
              "      <td>16.000000</td>\n",
              "      <td>12.000000</td>\n",
              "      <td>2.000000</td>\n",
              "      <td>0.000000</td>\n",
              "    </tr>\n",
              "    <tr>\n",
              "      <th>max</th>\n",
              "      <td>0.0</td>\n",
              "      <td>8.000000</td>\n",
              "      <td>16.000000</td>\n",
              "      <td>16.000000</td>\n",
              "      <td>16.000000</td>\n",
              "      <td>16.000000</td>\n",
              "      <td>16.000000</td>\n",
              "      <td>15.000000</td>\n",
              "      <td>2.000000</td>\n",
              "      <td>16.000000</td>\n",
              "      <td>...</td>\n",
              "      <td>16.000000</td>\n",
              "      <td>13.000000</td>\n",
              "      <td>1.000000</td>\n",
              "      <td>9.000000</td>\n",
              "      <td>16.000000</td>\n",
              "      <td>16.000000</td>\n",
              "      <td>16.000000</td>\n",
              "      <td>16.000000</td>\n",
              "      <td>16.000000</td>\n",
              "      <td>16.000000</td>\n",
              "    </tr>\n",
              "  </tbody>\n",
              "</table>\n",
              "<p>8 rows × 64 columns</p>\n",
              "</div>"
            ],
            "text/plain": [
              "       pixel_0_0    pixel_0_1    pixel_0_2    pixel_0_3    pixel_0_4  \\\n",
              "count     1797.0  1797.000000  1797.000000  1797.000000  1797.000000   \n",
              "mean         0.0     0.303840     5.204786    11.835838    11.848080   \n",
              "std          0.0     0.907192     4.754826     4.248842     4.287388   \n",
              "min          0.0     0.000000     0.000000     0.000000     0.000000   \n",
              "25%          0.0     0.000000     1.000000    10.000000    10.000000   \n",
              "50%          0.0     0.000000     4.000000    13.000000    13.000000   \n",
              "75%          0.0     0.000000     9.000000    15.000000    15.000000   \n",
              "max          0.0     8.000000    16.000000    16.000000    16.000000   \n",
              "\n",
              "         pixel_0_5    pixel_0_6    pixel_0_7    pixel_1_0    pixel_1_1  ...  \\\n",
              "count  1797.000000  1797.000000  1797.000000  1797.000000  1797.000000  ...   \n",
              "mean      5.781859     1.362270     0.129661     0.005565     1.993879  ...   \n",
              "std       5.666418     3.325775     1.037383     0.094222     3.196160  ...   \n",
              "min       0.000000     0.000000     0.000000     0.000000     0.000000  ...   \n",
              "25%       0.000000     0.000000     0.000000     0.000000     0.000000  ...   \n",
              "50%       4.000000     0.000000     0.000000     0.000000     0.000000  ...   \n",
              "75%      11.000000     0.000000     0.000000     0.000000     3.000000  ...   \n",
              "max      16.000000    16.000000    15.000000     2.000000    16.000000  ...   \n",
              "\n",
              "         pixel_6_6    pixel_6_7    pixel_7_0    pixel_7_1    pixel_7_2  \\\n",
              "count  1797.000000  1797.000000  1797.000000  1797.000000  1797.000000   \n",
              "mean      3.725097     0.206455     0.000556     0.279354     5.557596   \n",
              "std       4.919406     0.984401     0.023590     0.934302     5.103019   \n",
              "min       0.000000     0.000000     0.000000     0.000000     0.000000   \n",
              "25%       0.000000     0.000000     0.000000     0.000000     1.000000   \n",
              "50%       1.000000     0.000000     0.000000     0.000000     4.000000   \n",
              "75%       7.000000     0.000000     0.000000     0.000000    10.000000   \n",
              "max      16.000000    13.000000     1.000000     9.000000    16.000000   \n",
              "\n",
              "         pixel_7_3    pixel_7_4    pixel_7_5    pixel_7_6    pixel_7_7  \n",
              "count  1797.000000  1797.000000  1797.000000  1797.000000  1797.000000  \n",
              "mean     12.089037    11.809126     6.764051     2.067891     0.364496  \n",
              "std       4.374694     4.933947     5.900623     4.090548     1.860122  \n",
              "min       0.000000     0.000000     0.000000     0.000000     0.000000  \n",
              "25%      11.000000    10.000000     0.000000     0.000000     0.000000  \n",
              "50%      13.000000    14.000000     6.000000     0.000000     0.000000  \n",
              "75%      16.000000    16.000000    12.000000     2.000000     0.000000  \n",
              "max      16.000000    16.000000    16.000000    16.000000    16.000000  \n",
              "\n",
              "[8 rows x 64 columns]"
            ]
          },
          "execution_count": 83,
          "metadata": {},
          "output_type": "execute_result"
        }
      ],
      "source": [
        "df.describe()"
      ]
    },
    {
      "cell_type": "code",
      "execution_count": null,
      "metadata": {
        "id": "BxLvDktSjm1-"
      },
      "outputs": [],
      "source": [
        "X = df\n",
        "y = dataset.target"
      ]
    },
    {
      "cell_type": "code",
      "execution_count": null,
      "metadata": {
        "id": "yaWrcG3ujm1-",
        "outputId": "312070e3-004b-48d5-daec-96748934a404"
      },
      "outputs": [
        {
          "data": {
            "text/plain": [
              "array([[ 0.        , -0.33501649, -0.04308102, ..., -1.14664746,\n",
              "        -0.5056698 , -0.19600752],\n",
              "       [ 0.        , -0.33501649, -1.09493684, ...,  0.54856067,\n",
              "        -0.5056698 , -0.19600752],\n",
              "       [ 0.        , -0.33501649, -1.09493684, ...,  1.56568555,\n",
              "         1.6951369 , -0.19600752],\n",
              "       ...,\n",
              "       [ 0.        , -0.33501649, -0.88456568, ..., -0.12952258,\n",
              "        -0.5056698 , -0.19600752],\n",
              "       [ 0.        , -0.33501649, -0.67419451, ...,  0.8876023 ,\n",
              "        -0.5056698 , -0.19600752],\n",
              "       [ 0.        , -0.33501649,  1.00877481, ...,  0.8876023 ,\n",
              "        -0.26113572, -0.19600752]])"
            ]
          },
          "execution_count": 85,
          "metadata": {},
          "output_type": "execute_result"
        }
      ],
      "source": [
        "from sklearn.preprocessing import StandardScaler\n",
        "\n",
        "scaler = StandardScaler()\n",
        "X_scaled = scaler.fit_transform(X)\n",
        "X_scaled"
      ]
    },
    {
      "cell_type": "code",
      "execution_count": null,
      "metadata": {
        "id": "mvBgZ6Ynjm1_"
      },
      "outputs": [],
      "source": [
        "from sklearn.model_selection import train_test_split\n",
        "\n",
        "X_train, X_test, y_train, y_test = train_test_split(X_scaled, y, test_size=0.2, random_state=30)"
      ]
    },
    {
      "cell_type": "code",
      "execution_count": null,
      "metadata": {
        "id": "XC7LYAmFjm1_",
        "outputId": "9157111d-3006-4ac8-ccfe-5f448e14849a"
      },
      "outputs": [
        {
          "data": {
            "text/plain": [
              "0.9722222222222222"
            ]
          },
          "execution_count": 87,
          "metadata": {},
          "output_type": "execute_result"
        }
      ],
      "source": [
        "from sklearn.linear_model import LogisticRegression\n",
        "\n",
        "model = LogisticRegression()\n",
        "model.fit(X_train, y_train)\n",
        "model.score(X_test, y_test)"
      ]
    },
    {
      "cell_type": "markdown",
      "metadata": {
        "id": "x5XY7ZeEjm1_"
      },
      "source": [
        "<h3>Use PCA to reduce dimensions</h3>"
      ]
    },
    {
      "cell_type": "code",
      "execution_count": null,
      "metadata": {
        "id": "jNsQo9-Ajm1_",
        "outputId": "8129678d-e113-437f-983c-9c2f6e73053d"
      },
      "outputs": [
        {
          "data": {
            "text/html": [
              "<div>\n",
              "<style scoped>\n",
              "    .dataframe tbody tr th:only-of-type {\n",
              "        vertical-align: middle;\n",
              "    }\n",
              "\n",
              "    .dataframe tbody tr th {\n",
              "        vertical-align: top;\n",
              "    }\n",
              "\n",
              "    .dataframe thead th {\n",
              "        text-align: right;\n",
              "    }\n",
              "</style>\n",
              "<table border=\"1\" class=\"dataframe\">\n",
              "  <thead>\n",
              "    <tr style=\"text-align: right;\">\n",
              "      <th></th>\n",
              "      <th>pixel_0_0</th>\n",
              "      <th>pixel_0_1</th>\n",
              "      <th>pixel_0_2</th>\n",
              "      <th>pixel_0_3</th>\n",
              "      <th>pixel_0_4</th>\n",
              "      <th>pixel_0_5</th>\n",
              "      <th>pixel_0_6</th>\n",
              "      <th>pixel_0_7</th>\n",
              "      <th>pixel_1_0</th>\n",
              "      <th>pixel_1_1</th>\n",
              "      <th>...</th>\n",
              "      <th>pixel_6_6</th>\n",
              "      <th>pixel_6_7</th>\n",
              "      <th>pixel_7_0</th>\n",
              "      <th>pixel_7_1</th>\n",
              "      <th>pixel_7_2</th>\n",
              "      <th>pixel_7_3</th>\n",
              "      <th>pixel_7_4</th>\n",
              "      <th>pixel_7_5</th>\n",
              "      <th>pixel_7_6</th>\n",
              "      <th>pixel_7_7</th>\n",
              "    </tr>\n",
              "  </thead>\n",
              "  <tbody>\n",
              "    <tr>\n",
              "      <th>0</th>\n",
              "      <td>0.0</td>\n",
              "      <td>0.0</td>\n",
              "      <td>5.0</td>\n",
              "      <td>13.0</td>\n",
              "      <td>9.0</td>\n",
              "      <td>1.0</td>\n",
              "      <td>0.0</td>\n",
              "      <td>0.0</td>\n",
              "      <td>0.0</td>\n",
              "      <td>0.0</td>\n",
              "      <td>...</td>\n",
              "      <td>0.0</td>\n",
              "      <td>0.0</td>\n",
              "      <td>0.0</td>\n",
              "      <td>0.0</td>\n",
              "      <td>6.0</td>\n",
              "      <td>13.0</td>\n",
              "      <td>10.0</td>\n",
              "      <td>0.0</td>\n",
              "      <td>0.0</td>\n",
              "      <td>0.0</td>\n",
              "    </tr>\n",
              "    <tr>\n",
              "      <th>1</th>\n",
              "      <td>0.0</td>\n",
              "      <td>0.0</td>\n",
              "      <td>0.0</td>\n",
              "      <td>12.0</td>\n",
              "      <td>13.0</td>\n",
              "      <td>5.0</td>\n",
              "      <td>0.0</td>\n",
              "      <td>0.0</td>\n",
              "      <td>0.0</td>\n",
              "      <td>0.0</td>\n",
              "      <td>...</td>\n",
              "      <td>0.0</td>\n",
              "      <td>0.0</td>\n",
              "      <td>0.0</td>\n",
              "      <td>0.0</td>\n",
              "      <td>0.0</td>\n",
              "      <td>11.0</td>\n",
              "      <td>16.0</td>\n",
              "      <td>10.0</td>\n",
              "      <td>0.0</td>\n",
              "      <td>0.0</td>\n",
              "    </tr>\n",
              "    <tr>\n",
              "      <th>2</th>\n",
              "      <td>0.0</td>\n",
              "      <td>0.0</td>\n",
              "      <td>0.0</td>\n",
              "      <td>4.0</td>\n",
              "      <td>15.0</td>\n",
              "      <td>12.0</td>\n",
              "      <td>0.0</td>\n",
              "      <td>0.0</td>\n",
              "      <td>0.0</td>\n",
              "      <td>0.0</td>\n",
              "      <td>...</td>\n",
              "      <td>5.0</td>\n",
              "      <td>0.0</td>\n",
              "      <td>0.0</td>\n",
              "      <td>0.0</td>\n",
              "      <td>0.0</td>\n",
              "      <td>3.0</td>\n",
              "      <td>11.0</td>\n",
              "      <td>16.0</td>\n",
              "      <td>9.0</td>\n",
              "      <td>0.0</td>\n",
              "    </tr>\n",
              "    <tr>\n",
              "      <th>3</th>\n",
              "      <td>0.0</td>\n",
              "      <td>0.0</td>\n",
              "      <td>7.0</td>\n",
              "      <td>15.0</td>\n",
              "      <td>13.0</td>\n",
              "      <td>1.0</td>\n",
              "      <td>0.0</td>\n",
              "      <td>0.0</td>\n",
              "      <td>0.0</td>\n",
              "      <td>8.0</td>\n",
              "      <td>...</td>\n",
              "      <td>9.0</td>\n",
              "      <td>0.0</td>\n",
              "      <td>0.0</td>\n",
              "      <td>0.0</td>\n",
              "      <td>7.0</td>\n",
              "      <td>13.0</td>\n",
              "      <td>13.0</td>\n",
              "      <td>9.0</td>\n",
              "      <td>0.0</td>\n",
              "      <td>0.0</td>\n",
              "    </tr>\n",
              "    <tr>\n",
              "      <th>4</th>\n",
              "      <td>0.0</td>\n",
              "      <td>0.0</td>\n",
              "      <td>0.0</td>\n",
              "      <td>1.0</td>\n",
              "      <td>11.0</td>\n",
              "      <td>0.0</td>\n",
              "      <td>0.0</td>\n",
              "      <td>0.0</td>\n",
              "      <td>0.0</td>\n",
              "      <td>0.0</td>\n",
              "      <td>...</td>\n",
              "      <td>0.0</td>\n",
              "      <td>0.0</td>\n",
              "      <td>0.0</td>\n",
              "      <td>0.0</td>\n",
              "      <td>0.0</td>\n",
              "      <td>2.0</td>\n",
              "      <td>16.0</td>\n",
              "      <td>4.0</td>\n",
              "      <td>0.0</td>\n",
              "      <td>0.0</td>\n",
              "    </tr>\n",
              "    <tr>\n",
              "      <th>...</th>\n",
              "      <td>...</td>\n",
              "      <td>...</td>\n",
              "      <td>...</td>\n",
              "      <td>...</td>\n",
              "      <td>...</td>\n",
              "      <td>...</td>\n",
              "      <td>...</td>\n",
              "      <td>...</td>\n",
              "      <td>...</td>\n",
              "      <td>...</td>\n",
              "      <td>...</td>\n",
              "      <td>...</td>\n",
              "      <td>...</td>\n",
              "      <td>...</td>\n",
              "      <td>...</td>\n",
              "      <td>...</td>\n",
              "      <td>...</td>\n",
              "      <td>...</td>\n",
              "      <td>...</td>\n",
              "      <td>...</td>\n",
              "      <td>...</td>\n",
              "    </tr>\n",
              "    <tr>\n",
              "      <th>1792</th>\n",
              "      <td>0.0</td>\n",
              "      <td>0.0</td>\n",
              "      <td>4.0</td>\n",
              "      <td>10.0</td>\n",
              "      <td>13.0</td>\n",
              "      <td>6.0</td>\n",
              "      <td>0.0</td>\n",
              "      <td>0.0</td>\n",
              "      <td>0.0</td>\n",
              "      <td>1.0</td>\n",
              "      <td>...</td>\n",
              "      <td>4.0</td>\n",
              "      <td>0.0</td>\n",
              "      <td>0.0</td>\n",
              "      <td>0.0</td>\n",
              "      <td>2.0</td>\n",
              "      <td>14.0</td>\n",
              "      <td>15.0</td>\n",
              "      <td>9.0</td>\n",
              "      <td>0.0</td>\n",
              "      <td>0.0</td>\n",
              "    </tr>\n",
              "    <tr>\n",
              "      <th>1793</th>\n",
              "      <td>0.0</td>\n",
              "      <td>0.0</td>\n",
              "      <td>6.0</td>\n",
              "      <td>16.0</td>\n",
              "      <td>13.0</td>\n",
              "      <td>11.0</td>\n",
              "      <td>1.0</td>\n",
              "      <td>0.0</td>\n",
              "      <td>0.0</td>\n",
              "      <td>0.0</td>\n",
              "      <td>...</td>\n",
              "      <td>1.0</td>\n",
              "      <td>0.0</td>\n",
              "      <td>0.0</td>\n",
              "      <td>0.0</td>\n",
              "      <td>6.0</td>\n",
              "      <td>16.0</td>\n",
              "      <td>14.0</td>\n",
              "      <td>6.0</td>\n",
              "      <td>0.0</td>\n",
              "      <td>0.0</td>\n",
              "    </tr>\n",
              "    <tr>\n",
              "      <th>1794</th>\n",
              "      <td>0.0</td>\n",
              "      <td>0.0</td>\n",
              "      <td>1.0</td>\n",
              "      <td>11.0</td>\n",
              "      <td>15.0</td>\n",
              "      <td>1.0</td>\n",
              "      <td>0.0</td>\n",
              "      <td>0.0</td>\n",
              "      <td>0.0</td>\n",
              "      <td>0.0</td>\n",
              "      <td>...</td>\n",
              "      <td>0.0</td>\n",
              "      <td>0.0</td>\n",
              "      <td>0.0</td>\n",
              "      <td>0.0</td>\n",
              "      <td>2.0</td>\n",
              "      <td>9.0</td>\n",
              "      <td>13.0</td>\n",
              "      <td>6.0</td>\n",
              "      <td>0.0</td>\n",
              "      <td>0.0</td>\n",
              "    </tr>\n",
              "    <tr>\n",
              "      <th>1795</th>\n",
              "      <td>0.0</td>\n",
              "      <td>0.0</td>\n",
              "      <td>2.0</td>\n",
              "      <td>10.0</td>\n",
              "      <td>7.0</td>\n",
              "      <td>0.0</td>\n",
              "      <td>0.0</td>\n",
              "      <td>0.0</td>\n",
              "      <td>0.0</td>\n",
              "      <td>0.0</td>\n",
              "      <td>...</td>\n",
              "      <td>2.0</td>\n",
              "      <td>0.0</td>\n",
              "      <td>0.0</td>\n",
              "      <td>0.0</td>\n",
              "      <td>5.0</td>\n",
              "      <td>12.0</td>\n",
              "      <td>16.0</td>\n",
              "      <td>12.0</td>\n",
              "      <td>0.0</td>\n",
              "      <td>0.0</td>\n",
              "    </tr>\n",
              "    <tr>\n",
              "      <th>1796</th>\n",
              "      <td>0.0</td>\n",
              "      <td>0.0</td>\n",
              "      <td>10.0</td>\n",
              "      <td>14.0</td>\n",
              "      <td>8.0</td>\n",
              "      <td>1.0</td>\n",
              "      <td>0.0</td>\n",
              "      <td>0.0</td>\n",
              "      <td>0.0</td>\n",
              "      <td>2.0</td>\n",
              "      <td>...</td>\n",
              "      <td>8.0</td>\n",
              "      <td>0.0</td>\n",
              "      <td>0.0</td>\n",
              "      <td>1.0</td>\n",
              "      <td>8.0</td>\n",
              "      <td>12.0</td>\n",
              "      <td>14.0</td>\n",
              "      <td>12.0</td>\n",
              "      <td>1.0</td>\n",
              "      <td>0.0</td>\n",
              "    </tr>\n",
              "  </tbody>\n",
              "</table>\n",
              "<p>1797 rows × 64 columns</p>\n",
              "</div>"
            ],
            "text/plain": [
              "      pixel_0_0  pixel_0_1  pixel_0_2  pixel_0_3  pixel_0_4  pixel_0_5  \\\n",
              "0           0.0        0.0        5.0       13.0        9.0        1.0   \n",
              "1           0.0        0.0        0.0       12.0       13.0        5.0   \n",
              "2           0.0        0.0        0.0        4.0       15.0       12.0   \n",
              "3           0.0        0.0        7.0       15.0       13.0        1.0   \n",
              "4           0.0        0.0        0.0        1.0       11.0        0.0   \n",
              "...         ...        ...        ...        ...        ...        ...   \n",
              "1792        0.0        0.0        4.0       10.0       13.0        6.0   \n",
              "1793        0.0        0.0        6.0       16.0       13.0       11.0   \n",
              "1794        0.0        0.0        1.0       11.0       15.0        1.0   \n",
              "1795        0.0        0.0        2.0       10.0        7.0        0.0   \n",
              "1796        0.0        0.0       10.0       14.0        8.0        1.0   \n",
              "\n",
              "      pixel_0_6  pixel_0_7  pixel_1_0  pixel_1_1  ...  pixel_6_6  pixel_6_7  \\\n",
              "0           0.0        0.0        0.0        0.0  ...        0.0        0.0   \n",
              "1           0.0        0.0        0.0        0.0  ...        0.0        0.0   \n",
              "2           0.0        0.0        0.0        0.0  ...        5.0        0.0   \n",
              "3           0.0        0.0        0.0        8.0  ...        9.0        0.0   \n",
              "4           0.0        0.0        0.0        0.0  ...        0.0        0.0   \n",
              "...         ...        ...        ...        ...  ...        ...        ...   \n",
              "1792        0.0        0.0        0.0        1.0  ...        4.0        0.0   \n",
              "1793        1.0        0.0        0.0        0.0  ...        1.0        0.0   \n",
              "1794        0.0        0.0        0.0        0.0  ...        0.0        0.0   \n",
              "1795        0.0        0.0        0.0        0.0  ...        2.0        0.0   \n",
              "1796        0.0        0.0        0.0        2.0  ...        8.0        0.0   \n",
              "\n",
              "      pixel_7_0  pixel_7_1  pixel_7_2  pixel_7_3  pixel_7_4  pixel_7_5  \\\n",
              "0           0.0        0.0        6.0       13.0       10.0        0.0   \n",
              "1           0.0        0.0        0.0       11.0       16.0       10.0   \n",
              "2           0.0        0.0        0.0        3.0       11.0       16.0   \n",
              "3           0.0        0.0        7.0       13.0       13.0        9.0   \n",
              "4           0.0        0.0        0.0        2.0       16.0        4.0   \n",
              "...         ...        ...        ...        ...        ...        ...   \n",
              "1792        0.0        0.0        2.0       14.0       15.0        9.0   \n",
              "1793        0.0        0.0        6.0       16.0       14.0        6.0   \n",
              "1794        0.0        0.0        2.0        9.0       13.0        6.0   \n",
              "1795        0.0        0.0        5.0       12.0       16.0       12.0   \n",
              "1796        0.0        1.0        8.0       12.0       14.0       12.0   \n",
              "\n",
              "      pixel_7_6  pixel_7_7  \n",
              "0           0.0        0.0  \n",
              "1           0.0        0.0  \n",
              "2           9.0        0.0  \n",
              "3           0.0        0.0  \n",
              "4           0.0        0.0  \n",
              "...         ...        ...  \n",
              "1792        0.0        0.0  \n",
              "1793        0.0        0.0  \n",
              "1794        0.0        0.0  \n",
              "1795        0.0        0.0  \n",
              "1796        1.0        0.0  \n",
              "\n",
              "[1797 rows x 64 columns]"
            ]
          },
          "execution_count": 88,
          "metadata": {},
          "output_type": "execute_result"
        }
      ],
      "source": [
        "X"
      ]
    },
    {
      "cell_type": "markdown",
      "metadata": {
        "id": "p7YF8lOtjm1_"
      },
      "source": [
        "<h4>Use components such that 95% of variance is retained</h4>"
      ]
    },
    {
      "cell_type": "code",
      "execution_count": null,
      "metadata": {
        "scrolled": false,
        "id": "-Ut7Ma67jm2A",
        "outputId": "67891763-7842-486f-9c92-1e872b9f7378"
      },
      "outputs": [
        {
          "data": {
            "text/plain": [
              "(1797, 29)"
            ]
          },
          "execution_count": 90,
          "metadata": {},
          "output_type": "execute_result"
        }
      ],
      "source": [
        "from sklearn.decomposition import PCA\n",
        "\n",
        "pca = PCA(0.95)\n",
        "X_pca = pca.fit_transform(X)\n",
        "X_pca.shape"
      ]
    },
    {
      "cell_type": "code",
      "execution_count": null,
      "metadata": {
        "id": "VdYvx9O8jm2A",
        "outputId": "380ea353-6c4c-4b00-e5e7-336b0836ad61"
      },
      "outputs": [
        {
          "data": {
            "text/plain": [
              "array([0.14890594, 0.13618771, 0.11794594, 0.08409979, 0.05782415,\n",
              "       0.0491691 , 0.04315987, 0.03661373, 0.03353248, 0.03078806,\n",
              "       0.02372341, 0.02272697, 0.01821863, 0.01773855, 0.01467101,\n",
              "       0.01409716, 0.01318589, 0.01248138, 0.01017718, 0.00905617,\n",
              "       0.00889538, 0.00797123, 0.00767493, 0.00722904, 0.00695889,\n",
              "       0.00596081, 0.00575615, 0.00515158, 0.0048954 ])"
            ]
          },
          "execution_count": 91,
          "metadata": {},
          "output_type": "execute_result"
        }
      ],
      "source": [
        "pca.explained_variance_ratio_"
      ]
    },
    {
      "cell_type": "code",
      "execution_count": null,
      "metadata": {
        "id": "TiCtcjmqjm2A",
        "outputId": "0e97dcf6-d9bc-4a9a-9b84-7574b4ee10ce"
      },
      "outputs": [
        {
          "data": {
            "text/plain": [
              "29"
            ]
          },
          "execution_count": 92,
          "metadata": {},
          "output_type": "execute_result"
        }
      ],
      "source": [
        "pca.n_components_"
      ]
    },
    {
      "cell_type": "markdown",
      "metadata": {
        "id": "I9I9EkF7jm2A"
      },
      "source": [
        "**PCA created 29 components out of 64 original columns**"
      ]
    },
    {
      "cell_type": "code",
      "execution_count": null,
      "metadata": {
        "id": "q565sTCyjm2A",
        "outputId": "18a82709-02ad-41e1-d23e-d026c792b83f"
      },
      "outputs": [
        {
          "data": {
            "text/plain": [
              "array([[ -1.25946645,  21.27488348,  -9.46305462, ...,   3.67072108,\n",
              "         -0.9436689 ,  -1.13250195],\n",
              "       [  7.9576113 , -20.76869896,   4.43950604, ...,   2.18261819,\n",
              "         -0.51022719,   2.31354911],\n",
              "       [  6.99192297,  -9.95598641,   2.95855808, ...,   4.22882114,\n",
              "          2.1576573 ,   0.8379578 ],\n",
              "       ...,\n",
              "       [ 10.8012837 ,  -6.96025223,   5.59955453, ...,  -3.56866194,\n",
              "          1.82444444,   3.53885886],\n",
              "       [ -4.87210009,  12.42395362, -10.17086635, ...,   3.25330054,\n",
              "          0.95484174,  -0.93895602],\n",
              "       [ -0.34438963,   6.36554919,  10.77370849, ...,  -3.01636722,\n",
              "          1.29752723,   2.58810313]])"
            ]
          },
          "execution_count": 94,
          "metadata": {},
          "output_type": "execute_result"
        }
      ],
      "source": [
        "X_pca"
      ]
    },
    {
      "cell_type": "code",
      "execution_count": null,
      "metadata": {
        "id": "hreX45cejm2A"
      },
      "outputs": [],
      "source": [
        "X_train_pca, X_test_pca, y_train, y_test = train_test_split(X_pca, y, test_size=0.2, random_state=30)"
      ]
    },
    {
      "cell_type": "code",
      "execution_count": null,
      "metadata": {
        "id": "TQL0AFfbjm2B",
        "outputId": "0556839f-efa4-497f-d37b-1a64ccbe23ce"
      },
      "outputs": [
        {
          "data": {
            "text/plain": [
              "0.9694444444444444"
            ]
          },
          "execution_count": 53,
          "metadata": {},
          "output_type": "execute_result"
        }
      ],
      "source": [
        "from sklearn.linear_model import LogisticRegression\n",
        "\n",
        "model = LogisticRegression(max_iter=1000)\n",
        "model.fit(X_train_pca, y_train)\n",
        "model.score(X_test_pca, y_test)"
      ]
    },
    {
      "cell_type": "markdown",
      "metadata": {
        "id": "sFEvVB-Ljm2B"
      },
      "source": [
        "**Let's now select only two components**"
      ]
    },
    {
      "cell_type": "code",
      "execution_count": null,
      "metadata": {
        "id": "ONywdGvtjm2B",
        "outputId": "25287b4c-623e-4081-b49f-dd7f08c85888"
      },
      "outputs": [
        {
          "data": {
            "text/plain": [
              "(1797, 2)"
            ]
          },
          "execution_count": 95,
          "metadata": {},
          "output_type": "execute_result"
        }
      ],
      "source": [
        "pca = PCA(n_components=2)\n",
        "X_pca = pca.fit_transform(X)\n",
        "X_pca.shape"
      ]
    },
    {
      "cell_type": "code",
      "execution_count": null,
      "metadata": {
        "id": "d_HojG9Njm2B",
        "outputId": "c26c2680-8f32-44d1-95a1-b86043c2fa4a"
      },
      "outputs": [
        {
          "data": {
            "text/plain": [
              "array([[ -1.25946639,  21.27487891],\n",
              "       [  7.95760922, -20.76869518],\n",
              "       [  6.99192341,  -9.95598163],\n",
              "       ...,\n",
              "       [ 10.80128435,  -6.96025523],\n",
              "       [ -4.87210315,  12.42395926],\n",
              "       [ -0.34438701,   6.36554335]])"
            ]
          },
          "execution_count": 96,
          "metadata": {},
          "output_type": "execute_result"
        }
      ],
      "source": [
        "X_pca"
      ]
    },
    {
      "cell_type": "code",
      "execution_count": null,
      "metadata": {
        "id": "fZ0oRxWqjm2B",
        "outputId": "b007ed8b-7e72-4f00-a618-942d06075278"
      },
      "outputs": [
        {
          "data": {
            "text/plain": [
              "array([0.14890594, 0.13618771])"
            ]
          },
          "execution_count": 97,
          "metadata": {},
          "output_type": "execute_result"
        }
      ],
      "source": [
        "pca.explained_variance_ratio_"
      ]
    },
    {
      "cell_type": "markdown",
      "metadata": {
        "id": "9Z62HqS2jm2B"
      },
      "source": [
        "**You can see that both combined retains 0.14+0.13=0.27 or 27% of important feature information**"
      ]
    },
    {
      "cell_type": "code",
      "execution_count": null,
      "metadata": {
        "id": "OshqRzTcjm2B",
        "outputId": "783c9769-877f-4d8d-c25c-1b762f853e76"
      },
      "outputs": [
        {
          "data": {
            "text/plain": [
              "0.6083333333333333"
            ]
          },
          "execution_count": 98,
          "metadata": {},
          "output_type": "execute_result"
        }
      ],
      "source": [
        "X_train_pca, X_test_pca, y_train, y_test = train_test_split(X_pca, y, test_size=0.2, random_state=30)\n",
        "\n",
        "model = LogisticRegression(max_iter=1000)\n",
        "model.fit(X_train_pca, y_train)\n",
        "model.score(X_test_pca, y_test)"
      ]
    },
    {
      "cell_type": "markdown",
      "metadata": {
        "id": "x1T2ny5xjm2C"
      },
      "source": [
        "We get less accuancy (~60%) as using only 2 components did not retain much of the feature information. However in real life you will find many cases where using 2 or few PCA components can still give you a pretty good accuracy"
      ]
    },
    {
      "cell_type": "markdown",
      "source": [
        "Download heart disease dataset heart.csv in Exercise folder and do following, (credits of dataset: https://www.kaggle.com/fedesoriano/heart-failure-prediction)\n",
        "\n",
        "Load heart disease dataset in pandas dataframe\n",
        "Remove outliers using Z score. Usual guideline is to remove anything that has Z score > 3 formula or Z score < -3\n",
        "Convert text columns to numbers using label encoding and one hot encoding\n",
        "Apply scaling\n",
        "Build a classification model using various methods (SVM, logistic regression, random forest) and check which model gives you the best accuracy\n",
        "Now use PCA to reduce dimensions, retrain your model and see what impact it has on your model in terms of accuracy. Keep in mind that many times doing PCA reduces the accuracy but computation is much lighter and that's the trade off you need to consider while building models in real life"
      ],
      "metadata": {
        "id": "yqnI3p8HjsNo"
      }
    },
    {
      "cell_type": "code",
      "source": [
        "from google.colab import files\n",
        "files.upload()"
      ],
      "metadata": {
        "id": "ZE92AzllAu4U",
        "outputId": "097edc75-6390-4b08-85a3-ed193e7623bb",
        "colab": {
          "base_uri": "https://localhost:8080/",
          "height": 129
        }
      },
      "execution_count": 2,
      "outputs": [
        {
          "output_type": "display_data",
          "data": {
            "text/plain": [
              "<IPython.core.display.HTML object>"
            ],
            "text/html": [
              "\n",
              "     <input type=\"file\" id=\"files-71750e52-f59b-4ac9-bb38-bb09977c1432\" name=\"files[]\" multiple disabled\n",
              "        style=\"border:none\" />\n",
              "     <output id=\"result-71750e52-f59b-4ac9-bb38-bb09977c1432\">\n",
              "      Upload widget is only available when the cell has been executed in the\n",
              "      current browser session. Please rerun this cell to enable.\n",
              "      </output>\n",
              "      <script>// Copyright 2017 Google LLC\n",
              "//\n",
              "// Licensed under the Apache License, Version 2.0 (the \"License\");\n",
              "// you may not use this file except in compliance with the License.\n",
              "// You may obtain a copy of the License at\n",
              "//\n",
              "//      http://www.apache.org/licenses/LICENSE-2.0\n",
              "//\n",
              "// Unless required by applicable law or agreed to in writing, software\n",
              "// distributed under the License is distributed on an \"AS IS\" BASIS,\n",
              "// WITHOUT WARRANTIES OR CONDITIONS OF ANY KIND, either express or implied.\n",
              "// See the License for the specific language governing permissions and\n",
              "// limitations under the License.\n",
              "\n",
              "/**\n",
              " * @fileoverview Helpers for google.colab Python module.\n",
              " */\n",
              "(function(scope) {\n",
              "function span(text, styleAttributes = {}) {\n",
              "  const element = document.createElement('span');\n",
              "  element.textContent = text;\n",
              "  for (const key of Object.keys(styleAttributes)) {\n",
              "    element.style[key] = styleAttributes[key];\n",
              "  }\n",
              "  return element;\n",
              "}\n",
              "\n",
              "// Max number of bytes which will be uploaded at a time.\n",
              "const MAX_PAYLOAD_SIZE = 100 * 1024;\n",
              "\n",
              "function _uploadFiles(inputId, outputId) {\n",
              "  const steps = uploadFilesStep(inputId, outputId);\n",
              "  const outputElement = document.getElementById(outputId);\n",
              "  // Cache steps on the outputElement to make it available for the next call\n",
              "  // to uploadFilesContinue from Python.\n",
              "  outputElement.steps = steps;\n",
              "\n",
              "  return _uploadFilesContinue(outputId);\n",
              "}\n",
              "\n",
              "// This is roughly an async generator (not supported in the browser yet),\n",
              "// where there are multiple asynchronous steps and the Python side is going\n",
              "// to poll for completion of each step.\n",
              "// This uses a Promise to block the python side on completion of each step,\n",
              "// then passes the result of the previous step as the input to the next step.\n",
              "function _uploadFilesContinue(outputId) {\n",
              "  const outputElement = document.getElementById(outputId);\n",
              "  const steps = outputElement.steps;\n",
              "\n",
              "  const next = steps.next(outputElement.lastPromiseValue);\n",
              "  return Promise.resolve(next.value.promise).then((value) => {\n",
              "    // Cache the last promise value to make it available to the next\n",
              "    // step of the generator.\n",
              "    outputElement.lastPromiseValue = value;\n",
              "    return next.value.response;\n",
              "  });\n",
              "}\n",
              "\n",
              "/**\n",
              " * Generator function which is called between each async step of the upload\n",
              " * process.\n",
              " * @param {string} inputId Element ID of the input file picker element.\n",
              " * @param {string} outputId Element ID of the output display.\n",
              " * @return {!Iterable<!Object>} Iterable of next steps.\n",
              " */\n",
              "function* uploadFilesStep(inputId, outputId) {\n",
              "  const inputElement = document.getElementById(inputId);\n",
              "  inputElement.disabled = false;\n",
              "\n",
              "  const outputElement = document.getElementById(outputId);\n",
              "  outputElement.innerHTML = '';\n",
              "\n",
              "  const pickedPromise = new Promise((resolve) => {\n",
              "    inputElement.addEventListener('change', (e) => {\n",
              "      resolve(e.target.files);\n",
              "    });\n",
              "  });\n",
              "\n",
              "  const cancel = document.createElement('button');\n",
              "  inputElement.parentElement.appendChild(cancel);\n",
              "  cancel.textContent = 'Cancel upload';\n",
              "  const cancelPromise = new Promise((resolve) => {\n",
              "    cancel.onclick = () => {\n",
              "      resolve(null);\n",
              "    };\n",
              "  });\n",
              "\n",
              "  // Wait for the user to pick the files.\n",
              "  const files = yield {\n",
              "    promise: Promise.race([pickedPromise, cancelPromise]),\n",
              "    response: {\n",
              "      action: 'starting',\n",
              "    }\n",
              "  };\n",
              "\n",
              "  cancel.remove();\n",
              "\n",
              "  // Disable the input element since further picks are not allowed.\n",
              "  inputElement.disabled = true;\n",
              "\n",
              "  if (!files) {\n",
              "    return {\n",
              "      response: {\n",
              "        action: 'complete',\n",
              "      }\n",
              "    };\n",
              "  }\n",
              "\n",
              "  for (const file of files) {\n",
              "    const li = document.createElement('li');\n",
              "    li.append(span(file.name, {fontWeight: 'bold'}));\n",
              "    li.append(span(\n",
              "        `(${file.type || 'n/a'}) - ${file.size} bytes, ` +\n",
              "        `last modified: ${\n",
              "            file.lastModifiedDate ? file.lastModifiedDate.toLocaleDateString() :\n",
              "                                    'n/a'} - `));\n",
              "    const percent = span('0% done');\n",
              "    li.appendChild(percent);\n",
              "\n",
              "    outputElement.appendChild(li);\n",
              "\n",
              "    const fileDataPromise = new Promise((resolve) => {\n",
              "      const reader = new FileReader();\n",
              "      reader.onload = (e) => {\n",
              "        resolve(e.target.result);\n",
              "      };\n",
              "      reader.readAsArrayBuffer(file);\n",
              "    });\n",
              "    // Wait for the data to be ready.\n",
              "    let fileData = yield {\n",
              "      promise: fileDataPromise,\n",
              "      response: {\n",
              "        action: 'continue',\n",
              "      }\n",
              "    };\n",
              "\n",
              "    // Use a chunked sending to avoid message size limits. See b/62115660.\n",
              "    let position = 0;\n",
              "    do {\n",
              "      const length = Math.min(fileData.byteLength - position, MAX_PAYLOAD_SIZE);\n",
              "      const chunk = new Uint8Array(fileData, position, length);\n",
              "      position += length;\n",
              "\n",
              "      const base64 = btoa(String.fromCharCode.apply(null, chunk));\n",
              "      yield {\n",
              "        response: {\n",
              "          action: 'append',\n",
              "          file: file.name,\n",
              "          data: base64,\n",
              "        },\n",
              "      };\n",
              "\n",
              "      let percentDone = fileData.byteLength === 0 ?\n",
              "          100 :\n",
              "          Math.round((position / fileData.byteLength) * 100);\n",
              "      percent.textContent = `${percentDone}% done`;\n",
              "\n",
              "    } while (position < fileData.byteLength);\n",
              "  }\n",
              "\n",
              "  // All done.\n",
              "  yield {\n",
              "    response: {\n",
              "      action: 'complete',\n",
              "    }\n",
              "  };\n",
              "}\n",
              "\n",
              "scope.google = scope.google || {};\n",
              "scope.google.colab = scope.google.colab || {};\n",
              "scope.google.colab._files = {\n",
              "  _uploadFiles,\n",
              "  _uploadFilesContinue,\n",
              "};\n",
              "})(self);\n",
              "</script> "
            ]
          },
          "metadata": {}
        },
        {
          "output_type": "stream",
          "name": "stdout",
          "text": [
            "Saving heart.csv to heart.csv\n"
          ]
        },
        {
          "output_type": "execute_result",
          "data": {
            "text/plain": [
              "{'heart.csv': b'Age,Sex,ChestPainType,RestingBP,Cholesterol,FastingBS,RestingECG,MaxHR,ExerciseAngina,Oldpeak,ST_Slope,HeartDisease\\n40,M,ATA,140,289,0,Normal,172,N,0,Up,0\\n49,F,NAP,160,180,0,Normal,156,N,1,Flat,1\\n37,M,ATA,130,283,0,ST,98,N,0,Up,0\\n48,F,ASY,138,214,0,Normal,108,Y,1.5,Flat,1\\n54,M,NAP,150,195,0,Normal,122,N,0,Up,0\\n39,M,NAP,120,339,0,Normal,170,N,0,Up,0\\n45,F,ATA,130,237,0,Normal,170,N,0,Up,0\\n54,M,ATA,110,208,0,Normal,142,N,0,Up,0\\n37,M,ASY,140,207,0,Normal,130,Y,1.5,Flat,1\\n48,F,ATA,120,284,0,Normal,120,N,0,Up,0\\n37,F,NAP,130,211,0,Normal,142,N,0,Up,0\\n58,M,ATA,136,164,0,ST,99,Y,2,Flat,1\\n39,M,ATA,120,204,0,Normal,145,N,0,Up,0\\n49,M,ASY,140,234,0,Normal,140,Y,1,Flat,1\\n42,F,NAP,115,211,0,ST,137,N,0,Up,0\\n54,F,ATA,120,273,0,Normal,150,N,1.5,Flat,0\\n38,M,ASY,110,196,0,Normal,166,N,0,Flat,1\\n43,F,ATA,120,201,0,Normal,165,N,0,Up,0\\n60,M,ASY,100,248,0,Normal,125,N,1,Flat,1\\n36,M,ATA,120,267,0,Normal,160,N,3,Flat,1\\n43,F,TA,100,223,0,Normal,142,N,0,Up,0\\n44,M,ATA,120,184,0,Normal,142,N,1,Flat,0\\n49,F,ATA,124,201,0,Normal,164,N,0,Up,0\\n44,M,ATA,150,288,0,Normal,150,Y,3,Flat,1\\n40,M,NAP,130,215,0,Normal,138,N,0,Up,0\\n36,M,NAP,130,209,0,Normal,178,N,0,Up,0\\n53,M,ASY,124,260,0,ST,112,Y,3,Flat,0\\n52,M,ATA,120,284,0,Normal,118,N,0,Up,0\\n53,F,ATA,113,468,0,Normal,127,N,0,Up,0\\n51,M,ATA,125,188,0,Normal,145,N,0,Up,0\\n53,M,NAP,145,518,0,Normal,130,N,0,Flat,1\\n56,M,NAP,130,167,0,Normal,114,N,0,Up,0\\n54,M,ASY,125,224,0,Normal,122,N,2,Flat,1\\n41,M,ASY,130,172,0,ST,130,N,2,Flat,1\\n43,F,ATA,150,186,0,Normal,154,N,0,Up,0\\n32,M,ATA,125,254,0,Normal,155,N,0,Up,0\\n65,M,ASY,140,306,1,Normal,87,Y,1.5,Flat,1\\n41,F,ATA,110,250,0,ST,142,N,0,Up,0\\n48,F,ATA,120,177,1,ST,148,N,0,Up,0\\n48,F,ASY,150,227,0,Normal,130,Y,1,Flat,0\\n54,F,ATA,150,230,0,Normal,130,N,0,Up,0\\n54,F,NAP,130,294,0,ST,100,Y,0,Flat,1\\n35,M,ATA,150,264,0,Normal,168,N,0,Up,0\\n52,M,NAP,140,259,0,ST,170,N,0,Up,0\\n43,M,ASY,120,175,0,Normal,120,Y,1,Flat,1\\n59,M,NAP,130,318,0,Normal,120,Y,1,Flat,0\\n37,M,ASY,120,223,0,Normal,168,N,0,Up,0\\n50,M,ATA,140,216,0,Normal,170,N,0,Up,0\\n36,M,NAP,112,340,0,Normal,184,N,1,Flat,0\\n41,M,ASY,110,289,0,Normal,170,N,0,Flat,1\\n50,M,ASY,130,233,0,Normal,121,Y,2,Flat,1\\n47,F,ASY,120,205,0,Normal,98,Y,2,Flat,1\\n45,M,ATA,140,224,1,Normal,122,N,0,Up,0\\n41,F,ATA,130,245,0,Normal,150,N,0,Up,0\\n52,F,ASY,130,180,0,Normal,140,Y,1.5,Flat,0\\n51,F,ATA,160,194,0,Normal,170,N,0,Up,0\\n31,M,ASY,120,270,0,Normal,153,Y,1.5,Flat,1\\n58,M,NAP,130,213,0,ST,140,N,0,Flat,1\\n54,M,ASY,150,365,0,ST,134,N,1,Up,0\\n52,M,ASY,112,342,0,ST,96,Y,1,Flat,1\\n49,M,ATA,100,253,0,Normal,174,N,0,Up,0\\n43,F,NAP,150,254,0,Normal,175,N,0,Up,0\\n45,M,ASY,140,224,0,Normal,144,N,0,Up,0\\n46,M,ASY,120,277,0,Normal,125,Y,1,Flat,1\\n50,F,ATA,110,202,0,Normal,145,N,0,Up,0\\n37,F,ATA,120,260,0,Normal,130,N,0,Up,0\\n45,F,ASY,132,297,0,Normal,144,N,0,Up,0\\n32,M,ATA,110,225,0,Normal,184,N,0,Up,0\\n52,M,ASY,160,246,0,ST,82,Y,4,Flat,1\\n44,M,ASY,150,412,0,Normal,170,N,0,Up,0\\n57,M,ATA,140,265,0,ST,145,Y,1,Flat,1\\n44,M,ATA,130,215,0,Normal,135,N,0,Up,0\\n52,M,ASY,120,182,0,Normal,150,N,0,Flat,1\\n44,F,ASY,120,218,0,ST,115,N,0,Up,0\\n55,M,ASY,140,268,0,Normal,128,Y,1.5,Flat,1\\n46,M,NAP,150,163,0,Normal,116,N,0,Up,0\\n32,M,ASY,118,529,0,Normal,130,N,0,Flat,1\\n35,F,ASY,140,167,0,Normal,150,N,0,Up,0\\n52,M,ATA,140,100,0,Normal,138,Y,0,Up,0\\n49,M,ASY,130,206,0,Normal,170,N,0,Flat,1\\n55,M,NAP,110,277,0,Normal,160,N,0,Up,0\\n54,M,ATA,120,238,0,Normal,154,N,0,Up,0\\n63,M,ASY,150,223,0,Normal,115,N,0,Flat,1\\n52,M,ATA,160,196,0,Normal,165,N,0,Up,0\\n56,M,ASY,150,213,1,Normal,125,Y,1,Flat,1\\n66,M,ASY,140,139,0,Normal,94,Y,1,Flat,1\\n65,M,ASY,170,263,1,Normal,112,Y,2,Flat,1\\n53,F,ATA,140,216,0,Normal,142,Y,2,Flat,0\\n43,M,TA,120,291,0,ST,155,N,0,Flat,1\\n55,M,ASY,140,229,0,Normal,110,Y,0.5,Flat,0\\n49,F,ATA,110,208,0,Normal,160,N,0,Up,0\\n39,M,ASY,130,307,0,Normal,140,N,0,Up,0\\n52,F,ATA,120,210,0,Normal,148,N,0,Up,0\\n48,M,ASY,160,329,0,Normal,92,Y,1.5,Flat,1\\n39,F,NAP,110,182,0,ST,180,N,0,Up,0\\n58,M,ASY,130,263,0,Normal,140,Y,2,Flat,1\\n43,M,ATA,142,207,0,Normal,138,N,0,Up,0\\n39,M,NAP,160,147,1,Normal,160,N,0,Up,0\\n56,M,ASY,120,85,0,Normal,140,N,0,Up,0\\n41,M,ATA,125,269,0,Normal,144,N,0,Up,0\\n65,M,ASY,130,275,0,ST,115,Y,1,Flat,1\\n51,M,ASY,130,179,0,Normal,100,N,0,Up,0\\n40,F,ASY,150,392,0,Normal,130,N,2,Flat,1\\n40,M,ASY,120,466,1,Normal,152,Y,1,Flat,1\\n46,M,ASY,118,186,0,Normal,124,N,0,Flat,1\\n57,M,ATA,140,260,1,Normal,140,N,0,Up,0\\n48,F,ASY,120,254,0,ST,110,N,0,Up,0\\n34,M,ATA,150,214,0,ST,168,N,0,Up,0\\n50,M,ASY,140,129,0,Normal,135,N,0,Up,0\\n39,M,ATA,190,241,0,Normal,106,N,0,Up,0\\n59,F,ATA,130,188,0,Normal,124,N,1,Flat,0\\n57,M,ASY,150,255,0,Normal,92,Y,3,Flat,1\\n47,M,ASY,140,276,1,Normal,125,Y,0,Up,0\\n38,M,ATA,140,297,0,Normal,150,N,0,Up,0\\n49,F,NAP,130,207,0,ST,135,N,0,Up,0\\n33,F,ASY,100,246,0,Normal,150,Y,1,Flat,1\\n38,M,ASY,120,282,0,Normal,170,N,0,Flat,1\\n59,F,ASY,130,338,1,ST,130,Y,1.5,Flat,1\\n35,F,TA,120,160,0,ST,185,N,0,Up,0\\n34,M,TA,140,156,0,Normal,180,N,0,Flat,1\\n47,F,NAP,135,248,1,Normal,170,N,0,Flat,1\\n52,F,NAP,125,272,0,Normal,139,N,0,Up,0\\n46,M,ASY,110,240,0,ST,140,N,0,Up,0\\n58,F,ATA,180,393,0,Normal,110,Y,1,Flat,1\\n58,M,ATA,130,230,0,Normal,150,N,0,Up,0\\n54,M,ATA,120,246,0,Normal,110,N,0,Up,0\\n34,F,ATA,130,161,0,Normal,190,N,0,Up,0\\n48,F,ASY,108,163,0,Normal,175,N,2,Up,0\\n54,F,ATA,120,230,1,Normal,140,N,0,Up,0\\n42,M,NAP,120,228,0,Normal,152,Y,1.5,Flat,0\\n38,M,NAP,145,292,0,Normal,130,N,0,Up,0\\n46,M,ASY,110,202,0,Normal,150,Y,0,Flat,1\\n56,M,ASY,170,388,0,ST,122,Y,2,Flat,1\\n56,M,ASY,150,230,0,ST,124,Y,1.5,Flat,1\\n61,F,ASY,130,294,0,ST,120,Y,1,Flat,0\\n49,M,NAP,115,265,0,Normal,175,N,0,Flat,1\\n43,F,ATA,120,215,0,ST,175,N,0,Up,0\\n39,M,ATA,120,241,0,ST,146,N,2,Up,0\\n54,M,ASY,140,166,0,Normal,118,Y,0,Flat,1\\n43,M,ASY,150,247,0,Normal,130,Y,2,Flat,1\\n52,M,ASY,160,331,0,Normal,94,Y,2.5,Flat,1\\n50,M,ASY,140,341,0,ST,125,Y,2.5,Flat,1\\n47,M,ASY,160,291,0,ST,158,Y,3,Flat,1\\n53,M,ASY,140,243,0,Normal,155,N,0,Up,0\\n56,F,ATA,120,279,0,Normal,150,N,1,Flat,1\\n39,M,ASY,110,273,0,Normal,132,N,0,Up,0\\n42,M,ATA,120,198,0,Normal,155,N,0,Up,0\\n43,F,ATA,120,249,0,ST,176,N,0,Up,0\\n50,M,ATA,120,168,0,Normal,160,N,0,Up,0\\n54,M,ASY,130,603,1,Normal,125,Y,1,Flat,1\\n39,M,ATA,130,215,0,Normal,120,N,0,Up,0\\n48,M,ATA,100,159,0,Normal,100,N,0,Up,0\\n40,M,ATA,130,275,0,Normal,150,N,0,Up,0\\n55,M,ASY,120,270,0,Normal,140,N,0,Up,0\\n41,M,ATA,120,291,0,ST,160,N,0,Up,0\\n56,M,ASY,155,342,1,Normal,150,Y,3,Flat,1\\n38,M,ASY,110,190,0,Normal,150,Y,1,Flat,1\\n49,M,ASY,140,185,0,Normal,130,N,0,Up,0\\n44,M,ASY,130,290,0,Normal,100,Y,2,Flat,1\\n54,M,ATA,160,195,0,ST,130,N,1,Up,0\\n59,M,ASY,140,264,1,LVH,119,Y,0,Flat,1\\n49,M,ASY,128,212,0,Normal,96,Y,0,Flat,1\\n47,M,ATA,160,263,0,Normal,174,N,0,Up,0\\n42,M,ATA,120,196,0,Normal,150,N,0,Up,0\\n52,F,ATA,140,225,0,Normal,140,N,0,Up,0\\n46,M,TA,140,272,1,Normal,175,N,2,Flat,1\\n50,M,ASY,140,231,0,ST,140,Y,5,Flat,1\\n48,M,ATA,140,238,0,Normal,118,N,0,Up,0\\n58,M,ASY,135,222,0,Normal,100,N,0,Up,0\\n58,M,NAP,140,179,0,Normal,160,N,0,Up,0\\n29,M,ATA,120,243,0,Normal,160,N,0,Up,0\\n40,M,NAP,140,235,0,Normal,188,N,0,Up,0\\n53,M,ATA,140,320,0,Normal,162,N,0,Up,0\\n49,M,NAP,140,187,0,Normal,172,N,0,Up,0\\n52,M,ASY,140,266,0,Normal,134,Y,2,Flat,1\\n43,M,ASY,140,288,0,Normal,135,Y,2,Flat,1\\n54,M,ASY,140,216,0,Normal,105,N,1.5,Flat,1\\n59,M,ATA,140,287,0,Normal,150,N,0,Up,0\\n37,M,NAP,130,194,0,Normal,150,N,0,Up,0\\n46,F,ASY,130,238,0,Normal,90,N,0,Up,0\\n52,M,ASY,130,225,0,Normal,120,Y,2,Flat,1\\n51,M,ATA,130,224,0,Normal,150,N,0,Up,0\\n52,M,ASY,140,404,0,Normal,124,Y,2,Flat,1\\n46,M,ASY,110,238,0,ST,140,Y,1,Flat,0\\n54,F,ATA,160,312,0,Normal,130,N,0,Up,0\\n58,M,NAP,160,211,1,ST,92,N,0,Flat,1\\n58,M,ATA,130,251,0,Normal,110,N,0,Up,0\\n41,M,ASY,120,237,1,Normal,138,Y,1,Flat,1\\n50,F,ASY,120,328,0,Normal,110,Y,1,Flat,0\\n53,M,ASY,180,285,0,ST,120,Y,1.5,Flat,1\\n46,M,ASY,180,280,0,ST,120,N,0,Up,0\\n50,M,ATA,170,209,0,ST,116,N,0,Up,0\\n48,M,ATA,130,245,0,Normal,160,N,0,Up,0\\n45,M,NAP,135,192,0,Normal,110,N,0,Up,0\\n41,F,ATA,125,184,0,Normal,180,N,0,Up,0\\n62,F,TA,160,193,0,Normal,116,N,0,Up,0\\n49,M,ASY,120,297,0,Normal,132,N,1,Flat,0\\n42,M,ATA,150,268,0,Normal,136,N,0,Up,0\\n53,M,ASY,120,246,0,Normal,116,Y,0,Flat,1\\n57,F,TA,130,308,0,Normal,98,N,1,Flat,0\\n47,M,TA,110,249,0,Normal,150,N,0,Up,0\\n46,M,NAP,120,230,0,Normal,150,N,0,Up,0\\n42,M,NAP,160,147,0,Normal,146,N,0,Up,0\\n31,F,ATA,100,219,0,ST,150,N,0,Up,0\\n56,M,ATA,130,184,0,Normal,100,N,0,Up,0\\n50,M,ASY,150,215,0,Normal,140,Y,0,Up,0\\n35,M,ATA,120,308,0,LVH,180,N,0,Up,0\\n35,M,ATA,110,257,0,Normal,140,N,0,Flat,1\\n28,M,ATA,130,132,0,LVH,185,N,0,Up,0\\n54,M,ASY,125,216,0,Normal,140,N,0,Flat,1\\n48,M,ASY,106,263,1,Normal,110,N,0,Flat,1\\n50,F,NAP,140,288,0,Normal,140,Y,0,Flat,1\\n56,M,NAP,130,276,0,Normal,128,Y,1,Up,0\\n56,F,NAP,130,219,0,ST,164,N,0,Up,0\\n47,M,ASY,150,226,0,Normal,98,Y,1.5,Flat,1\\n30,F,TA,170,237,0,ST,170,N,0,Up,0\\n39,M,ASY,110,280,0,Normal,150,N,0,Flat,1\\n54,M,NAP,120,217,0,Normal,137,N,0,Up,0\\n55,M,ATA,140,196,0,Normal,150,N,0,Up,0\\n29,M,ATA,140,263,0,Normal,170,N,0,Up,0\\n46,M,ASY,130,222,0,Normal,112,N,0,Flat,1\\n51,F,ASY,160,303,0,Normal,150,Y,1,Flat,1\\n48,F,NAP,120,195,0,Normal,125,N,0,Up,0\\n33,M,NAP,120,298,0,Normal,185,N,0,Up,0\\n55,M,ATA,120,256,1,Normal,137,N,0,Up,0\\n50,M,ASY,145,264,0,Normal,150,N,0,Flat,1\\n53,M,NAP,120,195,0,Normal,140,N,0,Up,0\\n38,M,ASY,92,117,0,Normal,134,Y,2.5,Flat,1\\n41,M,ATA,120,295,0,Normal,170,N,0,Up,0\\n37,F,ASY,130,173,0,ST,184,N,0,Up,0\\n37,M,ASY,130,315,0,Normal,158,N,0,Up,0\\n40,M,NAP,130,281,0,Normal,167,N,0,Up,0\\n38,F,ATA,120,275,0,Normal,129,N,0,Up,0\\n41,M,ASY,112,250,0,Normal,142,N,0,Up,0\\n54,F,ATA,140,309,0,ST,140,N,0,Up,0\\n39,M,ATA,120,200,0,Normal,160,Y,1,Flat,0\\n41,M,ASY,120,336,0,Normal,118,Y,3,Flat,1\\n55,M,TA,140,295,0,Normal,136,N,0,Flat,1\\n48,M,ASY,160,355,0,Normal,99,Y,2,Flat,1\\n48,M,ASY,160,193,0,Normal,102,Y,3,Flat,1\\n55,M,ATA,145,326,0,Normal,155,N,0,Up,0\\n54,M,ASY,200,198,0,Normal,142,Y,2,Flat,1\\n55,M,ATA,160,292,1,Normal,143,Y,2,Flat,1\\n43,F,ATA,120,266,0,Normal,118,N,0,Up,0\\n48,M,ASY,160,268,0,Normal,103,Y,1,Flat,1\\n54,M,TA,120,171,0,Normal,137,N,2,Up,0\\n54,M,NAP,120,237,0,Normal,150,Y,1.5,Flat,1\\n48,M,ASY,122,275,1,ST,150,Y,2,Down,1\\n45,M,ASY,130,219,0,ST,130,Y,1,Flat,1\\n49,M,ASY,130,341,0,Normal,120,Y,1,Flat,1\\n44,M,ASY,135,491,0,Normal,135,N,0,Flat,1\\n48,M,ASY,120,260,0,Normal,115,N,2,Flat,1\\n61,M,ASY,125,292,0,ST,115,Y,0,Up,0\\n62,M,ATA,140,271,0,Normal,152,N,1,Up,0\\n55,M,ASY,145,248,0,Normal,96,Y,2,Flat,1\\n53,F,NAP,120,274,0,Normal,130,N,0,Up,0\\n55,F,ATA,130,394,0,LVH,150,N,0,Up,0\\n36,M,NAP,150,160,0,Normal,172,N,0,Up,0\\n51,F,NAP,150,200,0,Normal,120,N,0.5,Up,0\\n55,F,ATA,122,320,0,Normal,155,N,0,Up,0\\n46,M,ATA,140,275,0,Normal,165,Y,0,Up,0\\n54,F,ATA,120,221,0,Normal,138,N,1,Up,0\\n46,M,ASY,120,231,0,Normal,115,Y,0,Flat,1\\n59,M,ASY,130,126,0,Normal,125,N,0,Flat,1\\n47,M,NAP,140,193,0,Normal,145,Y,1,Flat,1\\n54,M,ATA,160,305,0,Normal,175,N,0,Up,0\\n52,M,ASY,130,298,0,Normal,110,Y,1,Flat,1\\n34,M,ATA,98,220,0,Normal,150,N,0,Up,0\\n54,M,ASY,130,242,0,Normal,91,Y,1,Flat,1\\n47,F,NAP,130,235,0,Normal,145,N,2,Flat,0\\n45,M,ASY,120,225,0,Normal,140,N,0,Up,0\\n32,F,ATA,105,198,0,Normal,165,N,0,Up,0\\n55,M,ASY,140,201,0,Normal,130,Y,3,Flat,1\\n55,M,NAP,120,220,0,LVH,134,N,0,Up,0\\n45,F,ATA,180,295,0,Normal,180,N,0,Up,0\\n59,M,NAP,180,213,0,Normal,100,N,0,Up,0\\n51,M,NAP,135,160,0,Normal,150,N,2,Flat,1\\n52,M,ASY,170,223,0,Normal,126,Y,1.5,Flat,1\\n57,F,ASY,180,347,0,ST,126,Y,0.8,Flat,0\\n54,F,ATA,130,253,0,ST,155,N,0,Up,0\\n60,M,NAP,120,246,0,LVH,135,N,0,Up,0\\n49,M,ASY,150,222,0,Normal,122,N,2,Flat,1\\n51,F,NAP,130,220,0,Normal,160,Y,2,Up,0\\n55,F,ATA,110,344,0,ST,160,N,0,Up,0\\n42,M,ASY,140,358,0,Normal,170,N,0,Up,0\\n51,F,NAP,110,190,0,Normal,120,N,0,Up,0\\n59,M,ASY,140,169,0,Normal,140,N,0,Up,0\\n53,M,ATA,120,181,0,Normal,132,N,0,Up,0\\n48,F,ATA,133,308,0,ST,156,N,2,Up,0\\n36,M,ATA,120,166,0,Normal,180,N,0,Up,0\\n48,M,NAP,110,211,0,Normal,138,N,0,Up,0\\n47,F,ATA,140,257,0,Normal,135,N,1,Up,0\\n53,M,ASY,130,182,0,Normal,148,N,0,Up,0\\n65,M,ASY,115,0,0,Normal,93,Y,0,Flat,1\\n32,M,TA,95,0,1,Normal,127,N,0.7,Up,1\\n61,M,ASY,105,0,1,Normal,110,Y,1.5,Up,1\\n50,M,ASY,145,0,1,Normal,139,Y,0.7,Flat,1\\n57,M,ASY,110,0,1,ST,131,Y,1.4,Up,1\\n51,M,ASY,110,0,1,Normal,92,N,0,Flat,1\\n47,M,ASY,110,0,1,ST,149,N,2.1,Up,1\\n60,M,ASY,160,0,1,Normal,149,N,0.4,Flat,1\\n55,M,ATA,140,0,0,ST,150,N,0.2,Up,0\\n53,M,ASY,125,0,1,Normal,120,N,1.5,Up,1\\n62,F,ASY,120,0,1,ST,123,Y,1.7,Down,1\\n51,M,ASY,95,0,1,Normal,126,N,2.2,Flat,1\\n51,F,ASY,120,0,1,Normal,127,Y,1.5,Up,1\\n55,M,ASY,115,0,1,Normal,155,N,0.1,Flat,1\\n53,M,ATA,130,0,0,ST,120,N,0.7,Down,0\\n58,M,ASY,115,0,1,Normal,138,N,0.5,Up,1\\n57,M,ASY,95,0,1,Normal,182,N,0.7,Down,1\\n65,M,ASY,155,0,0,Normal,154,N,1,Up,0\\n60,M,ASY,125,0,1,Normal,110,N,0.1,Up,1\\n41,M,ASY,125,0,1,Normal,176,N,1.6,Up,1\\n34,M,ASY,115,0,1,Normal,154,N,0.2,Up,1\\n53,M,ASY,80,0,0,Normal,141,Y,2,Down,0\\n74,M,ATA,145,0,1,ST,123,N,1.3,Up,1\\n57,M,NAP,105,0,1,Normal,148,N,0.3,Flat,1\\n56,M,ASY,140,0,1,Normal,121,Y,1.8,Up,1\\n61,M,ASY,130,0,1,Normal,77,N,2.5,Flat,1\\n68,M,ASY,145,0,1,Normal,136,N,1.8,Up,1\\n59,M,NAP,125,0,1,Normal,175,N,2.6,Flat,1\\n63,M,ASY,100,0,1,Normal,109,N,-0.9,Flat,1\\n38,F,ASY,105,0,1,Normal,166,N,2.8,Up,1\\n62,M,ASY,115,0,1,Normal,128,Y,2.5,Down,1\\n46,M,ASY,100,0,1,ST,133,N,-2.6,Flat,1\\n42,M,ASY,105,0,1,Normal,128,Y,-1.5,Down,1\\n45,M,NAP,110,0,0,Normal,138,N,-0.1,Up,0\\n59,M,ASY,125,0,1,Normal,119,Y,0.9,Up,1\\n52,M,ASY,95,0,1,Normal,82,Y,0.8,Flat,1\\n60,M,ASY,130,0,1,ST,130,Y,1.1,Down,1\\n60,M,NAP,115,0,1,Normal,143,N,2.4,Up,1\\n56,M,ASY,115,0,1,ST,82,N,-1,Up,1\\n38,M,NAP,100,0,0,Normal,179,N,-1.1,Up,0\\n40,M,ASY,95,0,1,ST,144,N,0,Up,1\\n51,M,ASY,130,0,1,Normal,170,N,-0.7,Up,1\\n62,M,TA,120,0,1,LVH,134,N,-0.8,Flat,1\\n72,M,NAP,160,0,0,LVH,114,N,1.6,Flat,0\\n63,M,ASY,150,0,1,ST,154,N,3.7,Up,1\\n63,M,ASY,140,0,1,LVH,149,N,2,Up,1\\n64,F,ASY,95,0,1,Normal,145,N,1.1,Down,1\\n43,M,ASY,100,0,1,Normal,122,N,1.5,Down,1\\n64,M,ASY,110,0,1,Normal,114,Y,1.3,Down,1\\n61,M,ASY,110,0,1,Normal,113,N,1.4,Flat,1\\n52,M,ASY,130,0,1,Normal,120,N,0,Flat,1\\n51,M,ASY,120,0,1,Normal,104,N,0,Flat,1\\n69,M,ASY,135,0,0,Normal,130,N,0,Flat,1\\n59,M,ASY,120,0,0,Normal,115,N,0,Flat,1\\n48,M,ASY,115,0,1,Normal,128,N,0,Flat,1\\n69,M,ASY,137,0,0,ST,104,Y,1.6,Flat,1\\n36,M,ASY,110,0,1,Normal,125,Y,1,Flat,1\\n53,M,ASY,120,0,1,Normal,120,N,0,Flat,1\\n43,M,ASY,140,0,0,ST,140,Y,0.5,Up,1\\n56,M,ASY,120,0,0,ST,100,Y,-1,Down,1\\n58,M,ASY,130,0,0,ST,100,Y,1,Flat,1\\n55,M,ASY,120,0,0,ST,92,N,0.3,Up,1\\n67,M,TA,145,0,0,LVH,125,N,0,Flat,1\\n46,M,ASY,115,0,0,Normal,113,Y,1.5,Flat,1\\n53,M,ATA,120,0,0,Normal,95,N,0,Flat,1\\n38,M,NAP,115,0,0,Normal,128,Y,0,Flat,1\\n53,M,NAP,105,0,0,Normal,115,N,0,Flat,1\\n62,M,NAP,160,0,0,Normal,72,Y,0,Flat,1\\n47,M,ASY,160,0,0,Normal,124,Y,0,Flat,1\\n56,M,NAP,155,0,0,ST,99,N,0,Flat,1\\n56,M,ASY,120,0,0,ST,148,N,0,Flat,1\\n56,M,NAP,120,0,0,Normal,97,N,0,Flat,0\\n64,F,ASY,200,0,0,Normal,140,Y,1,Flat,1\\n61,M,ASY,150,0,0,Normal,117,Y,2,Flat,1\\n68,M,ASY,135,0,0,ST,120,Y,0,Up,1\\n57,M,ASY,140,0,0,Normal,120,Y,2,Flat,1\\n63,M,ASY,150,0,0,Normal,86,Y,2,Flat,1\\n60,M,ASY,135,0,0,Normal,63,Y,0.5,Up,1\\n66,M,ASY,150,0,0,Normal,108,Y,2,Flat,1\\n63,M,ASY,185,0,0,Normal,98,Y,0,Up,1\\n59,M,ASY,135,0,0,Normal,115,Y,1,Flat,1\\n61,M,ASY,125,0,0,Normal,105,Y,0,Down,1\\n73,F,NAP,160,0,0,ST,121,N,0,Up,1\\n47,M,NAP,155,0,0,Normal,118,Y,1,Flat,1\\n65,M,ASY,160,0,1,ST,122,N,1.2,Flat,1\\n70,M,ASY,140,0,1,Normal,157,Y,2,Flat,1\\n50,M,ASY,120,0,0,ST,156,Y,0,Up,1\\n60,M,ASY,160,0,0,ST,99,Y,0.5,Flat,1\\n50,M,ASY,115,0,0,Normal,120,Y,0.5,Flat,1\\n43,M,ASY,115,0,0,Normal,145,Y,2,Flat,1\\n38,F,ASY,110,0,0,Normal,156,N,0,Flat,1\\n54,M,ASY,120,0,0,Normal,155,N,0,Flat,1\\n61,M,ASY,150,0,0,Normal,105,Y,0,Flat,1\\n42,M,ASY,145,0,0,Normal,99,Y,0,Flat,1\\n53,M,ASY,130,0,0,LVH,135,Y,1,Flat,1\\n55,M,ASY,140,0,0,Normal,83,N,0,Flat,1\\n61,M,ASY,160,0,1,ST,145,N,1,Flat,1\\n51,M,ASY,140,0,0,Normal,60,N,0,Flat,1\\n70,M,ASY,115,0,0,ST,92,Y,0,Flat,1\\n61,M,ASY,130,0,0,LVH,115,N,0,Flat,1\\n38,M,ASY,150,0,1,Normal,120,Y,0.7,Flat,1\\n57,M,ASY,160,0,1,Normal,98,Y,2,Flat,1\\n38,M,ASY,135,0,1,Normal,150,N,0,Flat,1\\n62,F,TA,140,0,1,Normal,143,N,0,Flat,1\\n58,M,ASY,170,0,1,ST,105,Y,0,Flat,1\\n52,M,ASY,165,0,1,Normal,122,Y,1,Up,1\\n61,M,NAP,200,0,1,ST,70,N,0,Flat,1\\n50,F,ASY,160,0,1,Normal,110,N,0,Flat,1\\n51,M,ASY,130,0,1,ST,163,N,0,Flat,1\\n65,M,ASY,145,0,1,ST,67,N,0.7,Flat,1\\n52,M,ASY,135,0,1,Normal,128,Y,2,Flat,1\\n47,M,NAP,110,0,1,Normal,120,Y,0,Flat,1\\n35,M,ASY,120,0,1,Normal,130,Y,1.2,Flat,1\\n57,M,ASY,140,0,1,Normal,100,Y,0,Flat,1\\n62,M,ASY,115,0,1,Normal,72,Y,-0.5,Flat,1\\n59,M,ASY,110,0,1,Normal,94,N,0,Flat,1\\n53,M,NAP,160,0,1,LVH,122,Y,0,Flat,1\\n62,M,ASY,150,0,1,ST,78,N,2,Flat,1\\n54,M,ASY,180,0,1,Normal,150,N,1.5,Flat,1\\n56,M,ASY,125,0,1,Normal,103,Y,1,Flat,1\\n56,M,NAP,125,0,1,Normal,98,N,-2,Flat,1\\n54,M,ASY,130,0,1,Normal,110,Y,3,Flat,1\\n66,F,ASY,155,0,1,Normal,90,N,0,Flat,1\\n63,M,ASY,140,260,0,ST,112,Y,3,Flat,1\\n44,M,ASY,130,209,0,ST,127,N,0,Up,0\\n60,M,ASY,132,218,0,ST,140,Y,1.5,Down,1\\n55,M,ASY,142,228,0,ST,149,Y,2.5,Up,1\\n66,M,NAP,110,213,1,LVH,99,Y,1.3,Flat,0\\n66,M,NAP,120,0,0,ST,120,N,-0.5,Up,0\\n65,M,ASY,150,236,1,ST,105,Y,0,Flat,1\\n60,M,NAP,180,0,0,ST,140,Y,1.5,Flat,0\\n60,M,NAP,120,0,1,Normal,141,Y,2,Up,1\\n60,M,ATA,160,267,1,ST,157,N,0.5,Flat,1\\n56,M,ATA,126,166,0,ST,140,N,0,Up,0\\n59,M,ASY,140,0,0,ST,117,Y,1,Flat,1\\n62,M,ASY,110,0,0,Normal,120,Y,0.5,Flat,1\\n63,M,NAP,133,0,0,LVH,120,Y,1,Flat,1\\n57,M,ASY,128,0,1,ST,148,Y,1,Flat,1\\n62,M,ASY,120,220,0,ST,86,N,0,Up,0\\n63,M,ASY,170,177,0,Normal,84,Y,2.5,Down,1\\n46,M,ASY,110,236,0,Normal,125,Y,2,Flat,1\\n63,M,ASY,126,0,0,ST,120,N,1.5,Down,0\\n60,M,ASY,152,0,0,ST,118,Y,0,Up,0\\n58,M,ASY,116,0,0,Normal,124,N,1,Up,1\\n64,M,ASY,120,0,1,ST,106,N,2,Flat,1\\n63,M,NAP,130,0,0,ST,111,Y,0,Flat,1\\n74,M,NAP,138,0,0,Normal,116,N,0.2,Up,0\\n52,M,NAP,128,0,0,ST,180,N,3,Up,1\\n69,M,ASY,130,0,1,ST,129,N,1,Flat,1\\n51,M,ASY,128,0,1,ST,125,Y,1.2,Flat,1\\n60,M,ASY,130,186,1,ST,140,Y,0.5,Flat,1\\n56,M,ASY,120,100,0,Normal,120,Y,1.5,Flat,1\\n55,M,NAP,136,228,0,ST,124,Y,1.6,Flat,1\\n54,M,ASY,130,0,0,ST,117,Y,1.4,Flat,1\\n77,M,ASY,124,171,0,ST,110,Y,2,Up,1\\n63,M,ASY,160,230,1,Normal,105,Y,1,Flat,1\\n55,M,NAP,0,0,0,Normal,155,N,1.5,Flat,1\\n52,M,NAP,122,0,0,Normal,110,Y,2,Down,1\\n64,M,ASY,144,0,0,ST,122,Y,1,Flat,1\\n60,M,ASY,140,281,0,ST,118,Y,1.5,Flat,1\\n60,M,ASY,120,0,0,Normal,133,Y,2,Up,0\\n58,M,ASY,136,203,1,Normal,123,Y,1.2,Flat,1\\n59,M,ASY,154,0,0,ST,131,Y,1.5,Up,0\\n61,M,NAP,120,0,0,Normal,80,Y,0,Flat,1\\n40,M,ASY,125,0,1,Normal,165,N,0,Flat,1\\n61,M,ASY,134,0,1,ST,86,N,1.5,Flat,1\\n41,M,ASY,104,0,0,ST,111,N,0,Up,0\\n57,M,ASY,139,277,1,ST,118,Y,1.9,Flat,1\\n63,M,ASY,136,0,0,Normal,84,Y,0,Flat,1\\n59,M,ASY,122,233,0,Normal,117,Y,1.3,Down,1\\n51,M,ASY,128,0,0,Normal,107,N,0,Up,0\\n59,M,NAP,131,0,0,Normal,128,Y,2,Down,1\\n42,M,NAP,134,240,0,Normal,160,N,0,Up,0\\n55,M,NAP,120,0,0,ST,125,Y,2.5,Flat,1\\n63,F,ATA,132,0,0,Normal,130,N,0.1,Up,0\\n62,M,ASY,152,153,0,ST,97,Y,1.6,Up,1\\n56,M,ATA,124,224,1,Normal,161,N,2,Flat,0\\n53,M,ASY,126,0,0,Normal,106,N,0,Flat,1\\n68,M,ASY,138,0,0,Normal,130,Y,3,Flat,1\\n53,M,ASY,154,0,1,ST,140,Y,1.5,Flat,1\\n60,M,NAP,141,316,1,ST,122,Y,1.7,Flat,1\\n62,M,ATA,131,0,0,Normal,130,N,0.1,Up,0\\n59,M,ASY,178,0,1,LVH,120,Y,0,Flat,1\\n51,M,ASY,132,218,1,LVH,139,N,0.1,Up,0\\n61,M,ASY,110,0,1,Normal,108,Y,2,Down,1\\n57,M,ASY,130,311,1,ST,148,Y,2,Flat,1\\n56,M,NAP,170,0,0,LVH,123,Y,2.5,Flat,1\\n58,M,ATA,126,0,1,Normal,110,Y,2,Flat,1\\n69,M,NAP,140,0,1,ST,118,N,2.5,Down,1\\n67,M,TA,142,270,1,Normal,125,N,2.5,Up,1\\n58,M,ASY,120,0,0,LVH,106,Y,1.5,Down,1\\n65,M,ASY,134,0,0,Normal,112,Y,1.1,Flat,1\\n63,M,ATA,139,217,1,ST,128,Y,1.2,Flat,1\\n55,M,ATA,110,214,1,ST,180,N,0.4,Up,0\\n57,M,ASY,140,214,0,ST,144,Y,2,Flat,1\\n65,M,TA,140,252,0,Normal,135,N,0.3,Up,0\\n54,M,ASY,136,220,0,Normal,140,Y,3,Flat,1\\n72,M,NAP,120,214,0,Normal,102,Y,1,Flat,1\\n75,M,ASY,170,203,1,ST,108,N,0,Flat,1\\n49,M,TA,130,0,0,ST,145,N,3,Flat,1\\n51,M,NAP,137,339,0,Normal,127,Y,1.7,Flat,1\\n60,M,ASY,142,216,0,Normal,110,Y,2.5,Flat,1\\n64,F,ASY,142,276,0,Normal,140,Y,1,Flat,1\\n58,M,ASY,132,458,1,Normal,69,N,1,Down,0\\n61,M,ASY,146,241,0,Normal,148,Y,3,Down,1\\n67,M,ASY,160,384,1,ST,130,Y,0,Flat,1\\n62,M,ASY,135,297,0,Normal,130,Y,1,Flat,1\\n65,M,ASY,136,248,0,Normal,140,Y,4,Down,1\\n63,M,ASY,130,308,0,Normal,138,Y,2,Flat,1\\n69,M,ASY,140,208,0,ST,140,Y,2,Flat,1\\n51,M,ASY,132,227,1,ST,138,N,0.2,Up,0\\n62,M,ASY,158,210,1,Normal,112,Y,3,Down,1\\n55,M,NAP,136,245,1,ST,131,Y,1.2,Flat,1\\n75,M,ASY,136,225,0,Normal,112,Y,3,Flat,1\\n40,M,NAP,106,240,0,Normal,80,Y,0,Up,0\\n67,M,ASY,120,0,1,Normal,150,N,1.5,Down,1\\n58,M,ASY,110,198,0,Normal,110,N,0,Flat,1\\n60,M,ASY,136,195,0,Normal,126,N,0.3,Up,0\\n63,M,ASY,160,267,1,ST,88,Y,2,Flat,1\\n35,M,NAP,123,161,0,ST,153,N,-0.1,Up,0\\n62,M,TA,112,258,0,ST,150,Y,1.3,Flat,1\\n43,M,ASY,122,0,0,Normal,120,N,0.5,Up,1\\n63,M,NAP,130,0,1,ST,160,N,3,Flat,0\\n68,M,NAP,150,195,1,Normal,132,N,0,Flat,1\\n65,M,ASY,150,235,0,Normal,120,Y,1.5,Flat,1\\n48,M,NAP,102,0,1,ST,110,Y,1,Down,1\\n63,M,ASY,96,305,0,ST,121,Y,1,Up,1\\n64,M,ASY,130,223,0,ST,128,N,0.5,Flat,0\\n61,M,ASY,120,282,0,ST,135,Y,4,Down,1\\n50,M,ASY,144,349,0,LVH,120,Y,1,Up,1\\n59,M,ASY,124,160,0,Normal,117,Y,1,Flat,1\\n55,M,ASY,150,160,0,ST,150,N,0,Up,0\\n45,M,NAP,130,236,0,Normal,144,N,0.1,Up,0\\n65,M,ASY,144,312,0,LVH,113,Y,1.7,Flat,1\\n61,M,ATA,139,283,0,Normal,135,N,0.3,Up,0\\n49,M,NAP,131,142,0,Normal,127,Y,1.5,Flat,1\\n72,M,ASY,143,211,0,Normal,109,Y,1.4,Flat,1\\n50,M,ASY,133,218,0,Normal,128,Y,1.1,Flat,1\\n64,M,ASY,143,306,1,ST,115,Y,1.8,Flat,1\\n55,M,ASY,116,186,1,ST,102,N,0,Flat,1\\n63,M,ASY,110,252,0,ST,140,Y,2,Flat,1\\n59,M,ASY,125,222,0,Normal,135,Y,2.5,Down,1\\n56,M,ASY,130,0,0,LVH,122,Y,1,Flat,1\\n62,M,NAP,133,0,1,ST,119,Y,1.2,Flat,1\\n74,M,ASY,150,258,1,ST,130,Y,4,Down,1\\n54,M,ASY,130,202,1,Normal,112,Y,2,Flat,1\\n57,M,ASY,110,197,0,LVH,100,N,0,Up,0\\n62,M,NAP,138,204,0,ST,122,Y,1.2,Flat,1\\n76,M,NAP,104,113,0,LVH,120,N,3.5,Down,1\\n54,F,ASY,138,274,0,Normal,105,Y,1.5,Flat,1\\n70,M,ASY,170,192,0,ST,129,Y,3,Down,1\\n61,F,ATA,140,298,1,Normal,120,Y,0,Up,0\\n48,M,ASY,132,272,0,ST,139,N,0.2,Up,0\\n48,M,NAP,132,220,1,ST,162,N,0,Flat,1\\n61,M,TA,142,200,1,ST,100,N,1.5,Down,1\\n66,M,ASY,112,261,0,Normal,140,N,1.5,Up,1\\n68,M,TA,139,181,1,ST,135,N,0.2,Up,0\\n55,M,ASY,172,260,0,Normal,73,N,2,Flat,1\\n62,M,NAP,120,220,0,LVH,86,N,0,Up,0\\n71,M,NAP,144,221,0,Normal,108,Y,1.8,Flat,1\\n74,M,TA,145,216,1,Normal,116,Y,1.8,Flat,1\\n53,M,NAP,155,175,1,ST,160,N,0.3,Up,0\\n58,M,NAP,150,219,0,ST,118,Y,0,Flat,1\\n75,M,ASY,160,310,1,Normal,112,Y,2,Down,0\\n56,M,NAP,137,208,1,ST,122,Y,1.8,Flat,1\\n58,M,NAP,137,232,0,ST,124,Y,1.4,Flat,1\\n64,M,ASY,134,273,0,Normal,102,Y,4,Down,1\\n54,M,NAP,133,203,0,ST,137,N,0.2,Up,0\\n54,M,ATA,132,182,0,ST,141,N,0.1,Up,0\\n59,M,ASY,140,274,0,Normal,154,Y,2,Flat,0\\n55,M,ASY,135,204,1,ST,126,Y,1.1,Flat,1\\n57,M,ASY,144,270,1,ST,160,Y,2,Flat,1\\n61,M,ASY,141,292,0,ST,115,Y,1.7,Flat,1\\n41,M,ASY,150,171,0,Normal,128,Y,1.5,Flat,0\\n71,M,ASY,130,221,0,ST,115,Y,0,Flat,1\\n38,M,ASY,110,289,0,Normal,105,Y,1.5,Down,1\\n55,M,ASY,158,217,0,Normal,110,Y,2.5,Flat,1\\n56,M,ASY,128,223,0,ST,119,Y,2,Down,1\\n69,M,ASY,140,110,1,Normal,109,Y,1.5,Flat,1\\n64,M,ASY,150,193,0,ST,135,Y,0.5,Flat,1\\n72,M,ASY,160,123,1,LVH,130,N,1.5,Flat,1\\n69,M,ASY,142,210,1,ST,112,Y,1.5,Flat,1\\n56,M,ASY,137,282,1,Normal,126,Y,1.2,Flat,1\\n62,M,ASY,139,170,0,ST,120,Y,3,Flat,1\\n67,M,ASY,146,369,0,Normal,110,Y,1.9,Flat,1\\n57,M,ASY,156,173,0,LVH,119,Y,3,Down,1\\n69,M,ASY,145,289,1,ST,110,Y,1.8,Flat,1\\n51,M,ASY,131,152,1,LVH,130,Y,1,Flat,1\\n48,M,ASY,140,208,0,Normal,159,Y,1.5,Up,1\\n69,M,ASY,122,216,1,LVH,84,Y,0,Flat,1\\n69,M,NAP,142,271,0,LVH,126,N,0.3,Up,0\\n64,M,ASY,141,244,1,ST,116,Y,1.5,Flat,1\\n57,M,ATA,180,285,1,ST,120,N,0.8,Flat,1\\n53,M,ASY,124,243,0,Normal,122,Y,2,Flat,1\\n37,M,NAP,118,240,0,LVH,165,N,1,Flat,0\\n67,M,ASY,140,219,0,ST,122,Y,2,Flat,1\\n74,M,NAP,140,237,1,Normal,94,N,0,Flat,1\\n63,M,ATA,136,165,0,ST,133,N,0.2,Up,0\\n58,M,ASY,100,213,0,ST,110,N,0,Up,0\\n61,M,ASY,190,287,1,LVH,150,Y,2,Down,1\\n64,M,ASY,130,258,1,LVH,130,N,0,Flat,1\\n58,M,ASY,160,256,1,LVH,113,Y,1,Up,1\\n60,M,ASY,130,186,1,LVH,140,Y,0.5,Flat,1\\n57,M,ASY,122,264,0,LVH,100,N,0,Flat,1\\n55,M,NAP,133,185,0,ST,136,N,0.2,Up,0\\n55,M,ASY,120,226,0,LVH,127,Y,1.7,Down,1\\n56,M,ASY,130,203,1,Normal,98,N,1.5,Flat,1\\n57,M,ASY,130,207,0,ST,96,Y,1,Flat,0\\n61,M,NAP,140,284,0,Normal,123,Y,1.3,Flat,1\\n61,M,NAP,120,337,0,Normal,98,Y,0,Flat,1\\n74,M,ASY,155,310,0,Normal,112,Y,1.5,Down,1\\n68,M,NAP,134,254,1,Normal,151,Y,0,Up,0\\n51,F,ASY,114,258,1,LVH,96,N,1,Up,0\\n62,M,ASY,160,254,1,ST,108,Y,3,Flat,1\\n53,M,ASY,144,300,1,ST,128,Y,1.5,Flat,1\\n62,M,ASY,158,170,0,ST,138,Y,0,Flat,1\\n46,M,ASY,134,310,0,Normal,126,N,0,Flat,1\\n54,F,ASY,127,333,1,ST,154,N,0,Flat,1\\n62,M,TA,135,139,0,ST,137,N,0.2,Up,0\\n55,M,ASY,122,223,1,ST,100,N,0,Flat,1\\n58,M,ASY,140,385,1,LVH,135,N,0.3,Up,0\\n62,M,ATA,120,254,0,LVH,93,Y,0,Flat,1\\n70,M,ASY,130,322,0,LVH,109,N,2.4,Flat,1\\n67,F,NAP,115,564,0,LVH,160,N,1.6,Flat,0\\n57,M,ATA,124,261,0,Normal,141,N,0.3,Up,1\\n64,M,ASY,128,263,0,Normal,105,Y,0.2,Flat,0\\n74,F,ATA,120,269,0,LVH,121,Y,0.2,Up,0\\n65,M,ASY,120,177,0,Normal,140,N,0.4,Up,0\\n56,M,NAP,130,256,1,LVH,142,Y,0.6,Flat,1\\n59,M,ASY,110,239,0,LVH,142,Y,1.2,Flat,1\\n60,M,ASY,140,293,0,LVH,170,N,1.2,Flat,1\\n63,F,ASY,150,407,0,LVH,154,N,4,Flat,1\\n59,M,ASY,135,234,0,Normal,161,N,0.5,Flat,0\\n53,M,ASY,142,226,0,LVH,111,Y,0,Up,0\\n44,M,NAP,140,235,0,LVH,180,N,0,Up,0\\n61,M,TA,134,234,0,Normal,145,N,2.6,Flat,1\\n57,F,ASY,128,303,0,LVH,159,N,0,Up,0\\n71,F,ASY,112,149,0,Normal,125,N,1.6,Flat,0\\n46,M,ASY,140,311,0,Normal,120,Y,1.8,Flat,1\\n53,M,ASY,140,203,1,LVH,155,Y,3.1,Down,1\\n64,M,TA,110,211,0,LVH,144,Y,1.8,Flat,0\\n40,M,TA,140,199,0,Normal,178,Y,1.4,Up,0\\n67,M,ASY,120,229,0,LVH,129,Y,2.6,Flat,1\\n48,M,ATA,130,245,0,LVH,180,N,0.2,Flat,0\\n43,M,ASY,115,303,0,Normal,181,N,1.2,Flat,0\\n47,M,ASY,112,204,0,Normal,143,N,0.1,Up,0\\n54,F,ATA,132,288,1,LVH,159,Y,0,Up,0\\n48,F,NAP,130,275,0,Normal,139,N,0.2,Up,0\\n46,F,ASY,138,243,0,LVH,152,Y,0,Flat,0\\n51,F,NAP,120,295,0,LVH,157,N,0.6,Up,0\\n58,M,NAP,112,230,0,LVH,165,N,2.5,Flat,1\\n71,F,NAP,110,265,1,LVH,130,N,0,Up,0\\n57,M,NAP,128,229,0,LVH,150,N,0.4,Flat,1\\n66,M,ASY,160,228,0,LVH,138,N,2.3,Up,0\\n37,F,NAP,120,215,0,Normal,170,N,0,Up,0\\n59,M,ASY,170,326,0,LVH,140,Y,3.4,Down,1\\n50,M,ASY,144,200,0,LVH,126,Y,0.9,Flat,1\\n48,M,ASY,130,256,1,LVH,150,Y,0,Up,1\\n61,M,ASY,140,207,0,LVH,138,Y,1.9,Up,1\\n59,M,TA,160,273,0,LVH,125,N,0,Up,1\\n42,M,NAP,130,180,0,Normal,150,N,0,Up,0\\n48,M,ASY,122,222,0,LVH,186,N,0,Up,0\\n40,M,ASY,152,223,0,Normal,181,N,0,Up,1\\n62,F,ASY,124,209,0,Normal,163,N,0,Up,0\\n44,M,NAP,130,233,0,Normal,179,Y,0.4,Up,0\\n46,M,ATA,101,197,1,Normal,156,N,0,Up,0\\n59,M,NAP,126,218,1,Normal,134,N,2.2,Flat,1\\n58,M,NAP,140,211,1,LVH,165,N,0,Up,0\\n49,M,NAP,118,149,0,LVH,126,N,0.8,Up,1\\n44,M,ASY,110,197,0,LVH,177,N,0,Up,1\\n66,M,ATA,160,246,0,Normal,120,Y,0,Flat,1\\n65,F,ASY,150,225,0,LVH,114,N,1,Flat,1\\n42,M,ASY,136,315,0,Normal,125,Y,1.8,Flat,1\\n52,M,ATA,128,205,1,Normal,184,N,0,Up,0\\n65,F,NAP,140,417,1,LVH,157,N,0.8,Up,0\\n63,F,ATA,140,195,0,Normal,179,N,0,Up,0\\n45,F,ATA,130,234,0,LVH,175,N,0.6,Flat,0\\n41,F,ATA,105,198,0,Normal,168,N,0,Up,0\\n61,M,ASY,138,166,0,LVH,125,Y,3.6,Flat,1\\n60,F,NAP,120,178,1,Normal,96,N,0,Up,0\\n59,F,ASY,174,249,0,Normal,143,Y,0,Flat,1\\n62,M,ATA,120,281,0,LVH,103,N,1.4,Flat,1\\n57,M,NAP,150,126,1,Normal,173,N,0.2,Up,0\\n51,F,ASY,130,305,0,Normal,142,Y,1.2,Flat,1\\n44,M,NAP,120,226,0,Normal,169,N,0,Up,0\\n60,F,TA,150,240,0,Normal,171,N,0.9,Up,0\\n63,M,TA,145,233,1,LVH,150,N,2.3,Down,0\\n57,M,ASY,150,276,0,LVH,112,Y,0.6,Flat,1\\n51,M,ASY,140,261,0,LVH,186,Y,0,Up,0\\n58,F,ATA,136,319,1,LVH,152,N,0,Up,1\\n44,F,NAP,118,242,0,Normal,149,N,0.3,Flat,0\\n47,M,NAP,108,243,0,Normal,152,N,0,Up,1\\n61,M,ASY,120,260,0,Normal,140,Y,3.6,Flat,1\\n57,F,ASY,120,354,0,Normal,163,Y,0.6,Up,0\\n70,M,ATA,156,245,0,LVH,143,N,0,Up,0\\n76,F,NAP,140,197,0,ST,116,N,1.1,Flat,0\\n67,F,ASY,106,223,0,Normal,142,N,0.3,Up,0\\n45,M,ASY,142,309,0,LVH,147,Y,0,Flat,1\\n45,M,ASY,104,208,0,LVH,148,Y,3,Flat,0\\n39,F,NAP,94,199,0,Normal,179,N,0,Up,0\\n42,F,NAP,120,209,0,Normal,173,N,0,Flat,0\\n56,M,ATA,120,236,0,Normal,178,N,0.8,Up,0\\n58,M,ASY,146,218,0,Normal,105,N,2,Flat,1\\n35,M,ASY,120,198,0,Normal,130,Y,1.6,Flat,1\\n58,M,ASY,150,270,0,LVH,111,Y,0.8,Up,1\\n41,M,NAP,130,214,0,LVH,168,N,2,Flat,0\\n57,M,ASY,110,201,0,Normal,126,Y,1.5,Flat,0\\n42,M,TA,148,244,0,LVH,178,N,0.8,Up,0\\n62,M,ATA,128,208,1,LVH,140,N,0,Up,0\\n59,M,TA,178,270,0,LVH,145,N,4.2,Down,0\\n41,F,ATA,126,306,0,Normal,163,N,0,Up,0\\n50,M,ASY,150,243,0,LVH,128,N,2.6,Flat,1\\n59,M,ATA,140,221,0,Normal,164,Y,0,Up,0\\n61,F,ASY,130,330,0,LVH,169,N,0,Up,1\\n54,M,ASY,124,266,0,LVH,109,Y,2.2,Flat,1\\n54,M,ASY,110,206,0,LVH,108,Y,0,Flat,1\\n52,M,ASY,125,212,0,Normal,168,N,1,Up,1\\n47,M,ASY,110,275,0,LVH,118,Y,1,Flat,1\\n66,M,ASY,120,302,0,LVH,151,N,0.4,Flat,0\\n58,M,ASY,100,234,0,Normal,156,N,0.1,Up,1\\n64,F,NAP,140,313,0,Normal,133,N,0.2,Up,0\\n50,F,ATA,120,244,0,Normal,162,N,1.1,Up,0\\n44,F,NAP,108,141,0,Normal,175,N,0.6,Flat,0\\n67,M,ASY,120,237,0,Normal,71,N,1,Flat,1\\n49,F,ASY,130,269,0,Normal,163,N,0,Up,0\\n57,M,ASY,165,289,1,LVH,124,N,1,Flat,1\\n63,M,ASY,130,254,0,LVH,147,N,1.4,Flat,1\\n48,M,ASY,124,274,0,LVH,166,N,0.5,Flat,1\\n51,M,NAP,100,222,0,Normal,143,Y,1.2,Flat,0\\n60,F,ASY,150,258,0,LVH,157,N,2.6,Flat,1\\n59,M,ASY,140,177,0,Normal,162,Y,0,Up,1\\n45,F,ATA,112,160,0,Normal,138,N,0,Flat,0\\n55,F,ASY,180,327,0,ST,117,Y,3.4,Flat,1\\n41,M,ATA,110,235,0,Normal,153,N,0,Up,0\\n60,F,ASY,158,305,0,LVH,161,N,0,Up,1\\n54,F,NAP,135,304,1,Normal,170,N,0,Up,0\\n42,M,ATA,120,295,0,Normal,162,N,0,Up,0\\n49,F,ATA,134,271,0,Normal,162,N,0,Flat,0\\n46,M,ASY,120,249,0,LVH,144,N,0.8,Up,1\\n56,F,ASY,200,288,1,LVH,133,Y,4,Down,1\\n66,F,TA,150,226,0,Normal,114,N,2.6,Down,0\\n56,M,ASY,130,283,1,LVH,103,Y,1.6,Down,1\\n49,M,NAP,120,188,0,Normal,139,N,2,Flat,1\\n54,M,ASY,122,286,0,LVH,116,Y,3.2,Flat,1\\n57,M,ASY,152,274,0,Normal,88,Y,1.2,Flat,1\\n65,F,NAP,160,360,0,LVH,151,N,0.8,Up,0\\n54,M,NAP,125,273,0,LVH,152,N,0.5,Down,0\\n54,F,NAP,160,201,0,Normal,163,N,0,Up,0\\n62,M,ASY,120,267,0,Normal,99,Y,1.8,Flat,1\\n52,F,NAP,136,196,0,LVH,169,N,0.1,Flat,0\\n52,M,ATA,134,201,0,Normal,158,N,0.8,Up,0\\n60,M,ASY,117,230,1,Normal,160,Y,1.4,Up,1\\n63,F,ASY,108,269,0,Normal,169,Y,1.8,Flat,1\\n66,M,ASY,112,212,0,LVH,132,Y,0.1,Up,1\\n42,M,ASY,140,226,0,Normal,178,N,0,Up,0\\n64,M,ASY,120,246,0,LVH,96,Y,2.2,Down,1\\n54,M,NAP,150,232,0,LVH,165,N,1.6,Up,0\\n46,F,NAP,142,177,0,LVH,160,Y,1.4,Down,0\\n67,F,NAP,152,277,0,Normal,172,N,0,Up,0\\n56,M,ASY,125,249,1,LVH,144,Y,1.2,Flat,1\\n34,F,ATA,118,210,0,Normal,192,N,0.7,Up,0\\n57,M,ASY,132,207,0,Normal,168,Y,0,Up,0\\n64,M,ASY,145,212,0,LVH,132,N,2,Flat,1\\n59,M,ASY,138,271,0,LVH,182,N,0,Up,0\\n50,M,NAP,140,233,0,Normal,163,N,0.6,Flat,1\\n51,M,TA,125,213,0,LVH,125,Y,1.4,Up,0\\n54,M,ATA,192,283,0,LVH,195,N,0,Up,1\\n53,M,ASY,123,282,0,Normal,95,Y,2,Flat,1\\n52,M,ASY,112,230,0,Normal,160,N,0,Up,1\\n40,M,ASY,110,167,0,LVH,114,Y,2,Flat,1\\n58,M,NAP,132,224,0,LVH,173,N,3.2,Up,1\\n41,F,NAP,112,268,0,LVH,172,Y,0,Up,0\\n41,M,NAP,112,250,0,Normal,179,N,0,Up,0\\n50,F,NAP,120,219,0,Normal,158,N,1.6,Flat,0\\n54,F,NAP,108,267,0,LVH,167,N,0,Up,0\\n64,F,ASY,130,303,0,Normal,122,N,2,Flat,0\\n51,F,NAP,130,256,0,LVH,149,N,0.5,Up,0\\n46,F,ATA,105,204,0,Normal,172,N,0,Up,0\\n55,M,ASY,140,217,0,Normal,111,Y,5.6,Down,1\\n45,M,ATA,128,308,0,LVH,170,N,0,Up,0\\n56,M,TA,120,193,0,LVH,162,N,1.9,Flat,0\\n66,F,ASY,178,228,1,Normal,165,Y,1,Flat,1\\n38,M,TA,120,231,0,Normal,182,Y,3.8,Flat,1\\n62,F,ASY,150,244,0,Normal,154,Y,1.4,Flat,1\\n55,M,ATA,130,262,0,Normal,155,N,0,Up,0\\n58,M,ASY,128,259,0,LVH,130,Y,3,Flat,1\\n43,M,ASY,110,211,0,Normal,161,N,0,Up,0\\n64,F,ASY,180,325,0,Normal,154,Y,0,Up,0\\n50,F,ASY,110,254,0,LVH,159,N,0,Up,0\\n53,M,NAP,130,197,1,LVH,152,N,1.2,Down,0\\n45,F,ASY,138,236,0,LVH,152,Y,0.2,Flat,0\\n65,M,TA,138,282,1,LVH,174,N,1.4,Flat,1\\n69,M,TA,160,234,1,LVH,131,N,0.1,Flat,0\\n69,M,NAP,140,254,0,LVH,146,N,2,Flat,1\\n67,M,ASY,100,299,0,LVH,125,Y,0.9,Flat,1\\n68,F,NAP,120,211,0,LVH,115,N,1.5,Flat,0\\n34,M,TA,118,182,0,LVH,174,N,0,Up,0\\n62,F,ASY,138,294,1,Normal,106,N,1.9,Flat,1\\n51,M,ASY,140,298,0,Normal,122,Y,4.2,Flat,1\\n46,M,NAP,150,231,0,Normal,147,N,3.6,Flat,1\\n67,M,ASY,125,254,1,Normal,163,N,0.2,Flat,1\\n50,M,NAP,129,196,0,Normal,163,N,0,Up,0\\n42,M,NAP,120,240,1,Normal,194,N,0.8,Down,0\\n56,F,ASY,134,409,0,LVH,150,Y,1.9,Flat,1\\n41,M,ASY,110,172,0,LVH,158,N,0,Up,1\\n42,F,ASY,102,265,0,LVH,122,N,0.6,Flat,0\\n53,M,NAP,130,246,1,LVH,173,N,0,Up,0\\n43,M,NAP,130,315,0,Normal,162,N,1.9,Up,0\\n56,M,ASY,132,184,0,LVH,105,Y,2.1,Flat,1\\n52,M,ASY,108,233,1,Normal,147,N,0.1,Up,0\\n62,F,ASY,140,394,0,LVH,157,N,1.2,Flat,0\\n70,M,NAP,160,269,0,Normal,112,Y,2.9,Flat,1\\n54,M,ASY,140,239,0,Normal,160,N,1.2,Up,0\\n70,M,ASY,145,174,0,Normal,125,Y,2.6,Down,1\\n54,M,ATA,108,309,0,Normal,156,N,0,Up,0\\n35,M,ASY,126,282,0,LVH,156,Y,0,Up,1\\n48,M,NAP,124,255,1,Normal,175,N,0,Up,0\\n55,F,ATA,135,250,0,LVH,161,N,1.4,Flat,0\\n58,F,ASY,100,248,0,LVH,122,N,1,Flat,0\\n54,F,NAP,110,214,0,Normal,158,N,1.6,Flat,0\\n69,F,TA,140,239,0,Normal,151,N,1.8,Up,0\\n77,M,ASY,125,304,0,LVH,162,Y,0,Up,1\\n68,M,NAP,118,277,0,Normal,151,N,1,Up,0\\n58,M,ASY,125,300,0,LVH,171,N,0,Up,1\\n60,M,ASY,125,258,0,LVH,141,Y,2.8,Flat,1\\n51,M,ASY,140,299,0,Normal,173,Y,1.6,Up,1\\n55,M,ASY,160,289,0,LVH,145,Y,0.8,Flat,1\\n52,M,TA,152,298,1,Normal,178,N,1.2,Flat,0\\n60,F,NAP,102,318,0,Normal,160,N,0,Up,0\\n58,M,NAP,105,240,0,LVH,154,Y,0.6,Flat,0\\n64,M,NAP,125,309,0,Normal,131,Y,1.8,Flat,1\\n37,M,NAP,130,250,0,Normal,187,N,3.5,Down,0\\n59,M,TA,170,288,0,LVH,159,N,0.2,Flat,1\\n51,M,NAP,125,245,1,LVH,166,N,2.4,Flat,0\\n43,F,NAP,122,213,0,Normal,165,N,0.2,Flat,0\\n58,M,ASY,128,216,0,LVH,131,Y,2.2,Flat,1\\n29,M,ATA,130,204,0,LVH,202,N,0,Up,0\\n41,F,ATA,130,204,0,LVH,172,N,1.4,Up,0\\n63,F,NAP,135,252,0,LVH,172,N,0,Up,0\\n51,M,NAP,94,227,0,Normal,154,Y,0,Up,0\\n54,M,NAP,120,258,0,LVH,147,N,0.4,Flat,0\\n44,M,ATA,120,220,0,Normal,170,N,0,Up,0\\n54,M,ASY,110,239,0,Normal,126,Y,2.8,Flat,1\\n65,M,ASY,135,254,0,LVH,127,N,2.8,Flat,1\\n57,M,NAP,150,168,0,Normal,174,N,1.6,Up,0\\n63,M,ASY,130,330,1,LVH,132,Y,1.8,Up,1\\n35,F,ASY,138,183,0,Normal,182,N,1.4,Up,0\\n41,M,ATA,135,203,0,Normal,132,N,0,Flat,0\\n62,F,NAP,130,263,0,Normal,97,N,1.2,Flat,1\\n43,F,ASY,132,341,1,LVH,136,Y,3,Flat,1\\n58,F,TA,150,283,1,LVH,162,N,1,Up,0\\n52,M,TA,118,186,0,LVH,190,N,0,Flat,0\\n61,F,ASY,145,307,0,LVH,146,Y,1,Flat,1\\n39,M,ASY,118,219,0,Normal,140,N,1.2,Flat,1\\n45,M,ASY,115,260,0,LVH,185,N,0,Up,0\\n52,M,ASY,128,255,0,Normal,161,Y,0,Up,1\\n62,M,NAP,130,231,0,Normal,146,N,1.8,Flat,0\\n62,F,ASY,160,164,0,LVH,145,N,6.2,Down,1\\n53,F,ASY,138,234,0,LVH,160,N,0,Up,0\\n43,M,ASY,120,177,0,LVH,120,Y,2.5,Flat,1\\n47,M,NAP,138,257,0,LVH,156,N,0,Up,0\\n52,M,ATA,120,325,0,Normal,172,N,0.2,Up,0\\n68,M,NAP,180,274,1,LVH,150,Y,1.6,Flat,1\\n39,M,NAP,140,321,0,LVH,182,N,0,Up,0\\n53,F,ASY,130,264,0,LVH,143,N,0.4,Flat,0\\n62,F,ASY,140,268,0,LVH,160,N,3.6,Down,1\\n51,F,NAP,140,308,0,LVH,142,N,1.5,Up,0\\n60,M,ASY,130,253,0,Normal,144,Y,1.4,Up,1\\n65,M,ASY,110,248,0,LVH,158,N,0.6,Up,1\\n65,F,NAP,155,269,0,Normal,148,N,0.8,Up,0\\n60,M,NAP,140,185,0,LVH,155,N,3,Flat,1\\n60,M,ASY,145,282,0,LVH,142,Y,2.8,Flat,1\\n54,M,ASY,120,188,0,Normal,113,N,1.4,Flat,1\\n44,M,ATA,130,219,0,LVH,188,N,0,Up,0\\n44,M,ASY,112,290,0,LVH,153,N,0,Up,1\\n51,M,NAP,110,175,0,Normal,123,N,0.6,Up,0\\n59,M,NAP,150,212,1,Normal,157,N,1.6,Up,0\\n71,F,ATA,160,302,0,Normal,162,N,0.4,Up,0\\n61,M,NAP,150,243,1,Normal,137,Y,1,Flat,0\\n55,M,ASY,132,353,0,Normal,132,Y,1.2,Flat,1\\n64,M,NAP,140,335,0,Normal,158,N,0,Up,1\\n43,M,ASY,150,247,0,Normal,171,N,1.5,Up,0\\n58,F,NAP,120,340,0,Normal,172,N,0,Up,0\\n60,M,ASY,130,206,0,LVH,132,Y,2.4,Flat,1\\n58,M,ATA,120,284,0,LVH,160,N,1.8,Flat,1\\n49,M,ATA,130,266,0,Normal,171,N,0.6,Up,0\\n48,M,ATA,110,229,0,Normal,168,N,1,Down,1\\n52,M,NAP,172,199,1,Normal,162,N,0.5,Up,0\\n44,M,ATA,120,263,0,Normal,173,N,0,Up,0\\n56,F,ATA,140,294,0,LVH,153,N,1.3,Flat,0\\n57,M,ASY,140,192,0,Normal,148,N,0.4,Flat,0\\n67,M,ASY,160,286,0,LVH,108,Y,1.5,Flat,1\\n53,F,NAP,128,216,0,LVH,115,N,0,Up,0\\n52,M,NAP,138,223,0,Normal,169,N,0,Up,0\\n43,M,ASY,132,247,1,LVH,143,Y,0.1,Flat,1\\n52,M,ASY,128,204,1,Normal,156,Y,1,Flat,1\\n59,M,TA,134,204,0,Normal,162,N,0.8,Up,1\\n64,M,TA,170,227,0,LVH,155,N,0.6,Flat,0\\n66,F,NAP,146,278,0,LVH,152,N,0,Flat,0\\n39,F,NAP,138,220,0,Normal,152,N,0,Flat,0\\n57,M,ATA,154,232,0,LVH,164,N,0,Up,1\\n58,F,ASY,130,197,0,Normal,131,N,0.6,Flat,0\\n57,M,ASY,110,335,0,Normal,143,Y,3,Flat,1\\n47,M,NAP,130,253,0,Normal,179,N,0,Up,0\\n55,F,ASY,128,205,0,ST,130,Y,2,Flat,1\\n35,M,ATA,122,192,0,Normal,174,N,0,Up,0\\n61,M,ASY,148,203,0,Normal,161,N,0,Up,1\\n58,M,ASY,114,318,0,ST,140,N,4.4,Down,1\\n58,F,ASY,170,225,1,LVH,146,Y,2.8,Flat,1\\n58,M,ATA,125,220,0,Normal,144,N,0.4,Flat,0\\n56,M,ATA,130,221,0,LVH,163,N,0,Up,0\\n56,M,ATA,120,240,0,Normal,169,N,0,Down,0\\n67,M,NAP,152,212,0,LVH,150,N,0.8,Flat,1\\n55,F,ATA,132,342,0,Normal,166,N,1.2,Up,0\\n44,M,ASY,120,169,0,Normal,144,Y,2.8,Down,1\\n63,M,ASY,140,187,0,LVH,144,Y,4,Up,1\\n63,F,ASY,124,197,0,Normal,136,Y,0,Flat,1\\n41,M,ATA,120,157,0,Normal,182,N,0,Up,0\\n59,M,ASY,164,176,1,LVH,90,N,1,Flat,1\\n57,F,ASY,140,241,0,Normal,123,Y,0.2,Flat,1\\n45,M,TA,110,264,0,Normal,132,N,1.2,Flat,1\\n68,M,ASY,144,193,1,Normal,141,N,3.4,Flat,1\\n57,M,ASY,130,131,0,Normal,115,Y,1.2,Flat,1\\n57,F,ATA,130,236,0,LVH,174,N,0,Flat,1\\n38,M,NAP,138,175,0,Normal,173,N,0,Up,0\\n'}"
            ]
          },
          "metadata": {},
          "execution_count": 2
        }
      ]
    },
    {
      "cell_type": "code",
      "source": [
        "# Step 1️⃣ - Import libraries\n",
        "import pandas as pd\n",
        "import numpy as np\n",
        "from scipy import stats\n",
        "from sklearn.preprocessing import LabelEncoder, StandardScaler\n",
        "from sklearn.model_selection import train_test_split\n",
        "from sklearn.linear_model import LogisticRegression\n",
        "from sklearn.ensemble import RandomForestClassifier\n",
        "from sklearn.svm import SVC\n",
        "from sklearn.decomposition import PCA\n",
        "from sklearn.metrics import accuracy_score\n",
        "\n",
        "# Step 2️⃣ - Load dataset\n",
        "df = pd.read_csv(\"heart.csv\")\n",
        "print(\"Dataset shape before cleaning:\", df.shape)\n",
        "print(df.head())\n",
        "\n",
        "# Step 3️⃣ - Remove outliers using Z-Score method\n",
        "z = np.abs(stats.zscore(df.select_dtypes(include=[np.number])))\n",
        "filtered_entries = (z < 3).all(axis=1)\n",
        "df = df[filtered_entries]\n",
        "print(\"Dataset shape after removing outliers:\", df.shape)\n",
        "\n",
        "# Step 4️⃣ - Convert text (categorical) columns to numbers\n",
        "categorical_cols = df.select_dtypes(include=['object']).columns\n",
        "print(\"\\nCategorical columns:\", list(categorical_cols))\n",
        "\n",
        "# Apply Label Encoding for binary columns, One-Hot Encoding for multi-category\n",
        "for col in categorical_cols:\n",
        "    if df[col].nunique() == 2:\n",
        "        le = LabelEncoder()\n",
        "        df[col] = le.fit_transform(df[col])\n",
        "    else:\n",
        "        df = pd.get_dummies(df, columns=[col], drop_first=True)\n",
        "\n",
        "print(\"Shape after encoding:\", df.shape)\n",
        "# Step 5️⃣ - Split features and target\n",
        "X = df.drop('HeartDisease', axis=1)\n",
        "y = df['HeartDisease']\n",
        "\n",
        "# Step 6️⃣ - Apply scaling\n",
        "scaler = StandardScaler()\n",
        "X_scaled = scaler.fit_transform(X)\n",
        "\n",
        "# Step 7️⃣ - Train-Test split\n",
        "from sklearn.model_selection import train_test_split\n",
        "X_train, X_test, y_train, y_test = train_test_split(X_scaled, y, test_size=0.2, random_state=42, stratify=y)\n",
        "\n",
        "# Step 8️⃣ - Train and compare models\n",
        "from sklearn.linear_model import LogisticRegression\n",
        "from sklearn.ensemble import RandomForestClassifier\n",
        "from sklearn.svm import SVC\n",
        "from sklearn.metrics import accuracy_score\n",
        "\n",
        "models = {\n",
        "    \"Logistic Regression\": LogisticRegression(max_iter=1000, random_state=42),\n",
        "    \"Random Forest\": RandomForestClassifier(random_state=42),\n",
        "    \"SVM\": SVC(kernel='rbf', random_state=42)\n",
        "}\n",
        "\n",
        "print(\"\\n🔹 Model Accuracies (Before PCA):\")\n",
        "accuracies = {}\n",
        "for name, model in models.items():\n",
        "    model.fit(X_train, y_train)\n",
        "    y_pred = model.predict(X_test)\n",
        "    acc = accuracy_score(y_test, y_pred)\n",
        "    accuracies[name] = acc\n",
        "    print(f\"{name}: {acc:.4f}\")\n",
        "\n",
        "best_model_name = max(accuracies, key=accuracies.get)\n",
        "print(f\"\\n Best Model before PCA: {best_model_name} ({accuracies[best_model_name]:.4f})\")\n",
        "\n",
        "# Step 9️⃣ - Apply PCA for dimensionality reduction\n",
        "from sklearn.decomposition import PCA\n",
        "\n",
        "pca = PCA(n_components=0.95)  # Keep 95% variance\n",
        "X_pca = pca.fit_transform(X_scaled)\n",
        "print(\"\\nOriginal features:\", X.shape[1], \"| After PCA:\", X_pca.shape[1])\n",
        "\n",
        "# Step 🔟 - Split again after PCA\n",
        "X_train_pca, X_test_pca, y_train, y_test = train_test_split(X_pca, y, test_size=0.2, random_state=42, stratify=y)\n",
        "\n",
        "# Step 1️⃣1️⃣ - Retrain models after PCA\n",
        "print(\"\\n🔹 Model Accuracies (After PCA):\")\n",
        "pca_accuracies = {}\n",
        "for name, model in models.items():\n",
        "    model.fit(X_train_pca, y_train)\n",
        "    y_pred_pca = model.predict(X_test_pca)\n",
        "    acc_pca = accuracy_score(y_test, y_pred_pca)\n",
        "    pca_accuracies[name] = acc_pca\n",
        "    print(f\"{name}: {acc_pca:.4f}\")\n",
        "\n",
        "best_pca_model = max(pca_accuracies, key=pca_accuracies.get)\n",
        "print(f\"\\n Best Model after PCA: {best_pca_model} ({pca_accuracies[best_pca_model]:.4f})\")\n",
        "\n",
        "# Step 1️⃣2️⃣ - Final observation\n",
        "print(\"\"\"\n",
        "📊 Summary:\n",
        "- Outliers removed using Z-Score (>3 or <-3)\n",
        "- Text columns encoded using Label/OneHot encoding\n",
        "- Data scaled using StandardScaler\n",
        "- Compared Logistic Regression, Random Forest, and SVM\n",
        "- PCA reduced feature dimensions while slightly affecting accuracy\n",
        "- Real-life trade-off: PCA offers faster computation with some accuracy loss\n",
        "\"\"\")\n"
      ],
      "metadata": {
        "id": "S3cNTr47AdRe",
        "colab": {
          "base_uri": "https://localhost:8080/"
        },
        "outputId": "e655c7e3-946d-40e5-8da8-1d6f055ade7c"
      },
      "execution_count": 5,
      "outputs": [
        {
          "output_type": "stream",
          "name": "stdout",
          "text": [
            "Dataset shape before cleaning: (918, 12)\n",
            "   Age Sex ChestPainType  RestingBP  Cholesterol  FastingBS RestingECG  MaxHR  \\\n",
            "0   40   M           ATA        140          289          0     Normal    172   \n",
            "1   49   F           NAP        160          180          0     Normal    156   \n",
            "2   37   M           ATA        130          283          0         ST     98   \n",
            "3   48   F           ASY        138          214          0     Normal    108   \n",
            "4   54   M           NAP        150          195          0     Normal    122   \n",
            "\n",
            "  ExerciseAngina  Oldpeak ST_Slope  HeartDisease  \n",
            "0              N      0.0       Up             0  \n",
            "1              N      1.0     Flat             1  \n",
            "2              N      0.0       Up             0  \n",
            "3              Y      1.5     Flat             1  \n",
            "4              N      0.0       Up             0  \n",
            "Dataset shape after removing outliers: (899, 12)\n",
            "\n",
            "Categorical columns: ['Sex', 'ChestPainType', 'RestingECG', 'ExerciseAngina', 'ST_Slope']\n",
            "Shape after encoding: (899, 16)\n",
            "\n",
            "🔹 Model Accuracies (Before PCA):\n",
            "Logistic Regression: 0.8722\n",
            "Random Forest: 0.8667\n",
            "SVM: 0.8944\n",
            "\n",
            " Best Model before PCA: SVM (0.8944)\n",
            "\n",
            "Original features: 15 | After PCA: 13\n",
            "\n",
            "🔹 Model Accuracies (After PCA):\n",
            "Logistic Regression: 0.8722\n",
            "Random Forest: 0.8833\n",
            "SVM: 0.8889\n",
            "\n",
            " Best Model after PCA: SVM (0.8889)\n",
            "\n",
            "📊 Summary:\n",
            "- Outliers removed using Z-Score (>3 or <-3)\n",
            "- Text columns encoded using Label/OneHot encoding\n",
            "- Data scaled using StandardScaler\n",
            "- Compared Logistic Regression, Random Forest, and SVM\n",
            "- PCA reduced feature dimensions while slightly affecting accuracy\n",
            "- Real-life trade-off: PCA offers faster computation with some accuracy loss\n",
            "\n"
          ]
        }
      ]
    }
  ],
  "metadata": {
    "kernelspec": {
      "display_name": "Python 3",
      "language": "python",
      "name": "python3"
    },
    "language_info": {
      "codemirror_mode": {
        "name": "ipython",
        "version": 3
      },
      "file_extension": ".py",
      "mimetype": "text/x-python",
      "name": "python",
      "nbconvert_exporter": "python",
      "pygments_lexer": "ipython3",
      "version": "3.8.5"
    },
    "colab": {
      "provenance": []
    }
  },
  "nbformat": 4,
  "nbformat_minor": 0
}